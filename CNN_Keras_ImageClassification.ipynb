{
  "nbformat": 4,
  "nbformat_minor": 0,
  "metadata": {
    "colab": {
      "name": "CNN_Keras_ImageClassification.ipynb",
      "provenance": []
    },
    "kernelspec": {
      "display_name": "Python 3",
      "name": "python3"
    },
    "language_info": {
      "name": "python"
    }
  },
  "cells": [
    {
      "cell_type": "code",
      "metadata": {
        "colab": {
          "base_uri": "https://localhost:8080/"
        },
        "id": "yVu5OdF7J2rw",
        "outputId": "6d60ad32-60fd-4be1-99f1-242d1163232d"
      },
      "source": [
        "!pip install plot_model"
      ],
      "execution_count": null,
      "outputs": [
        {
          "output_type": "stream",
          "text": [
            "Collecting plot_model\n",
            "  Downloading plot_model-0.20-py3-none-any.whl (6.9 kB)\n",
            "Installing collected packages: plot-model\n",
            "Successfully installed plot-model-0.20\n"
          ],
          "name": "stdout"
        }
      ]
    },
    {
      "cell_type": "code",
      "metadata": {
        "colab": {
          "base_uri": "https://localhost:8080/",
          "height": 17
        },
        "id": "9WLOIKqPI8DN",
        "outputId": "eea2d6f4-609a-4e1f-f03f-d8af9402db16"
      },
      "source": [
        "import numpy as np\n",
        "import pandas as pd\n",
        "from sklearn.model_selection import train_test_split\n",
        "from sklearn.metrics import classification_report\n",
        "from tensorflow.python import keras\n",
        "from tensorflow.python.keras.models import Sequential\n",
        "from tensorflow.python.keras.layers import Dense, Flatten, Conv2D, Dropout, MaxPooling2D,BatchNormalization\n",
        "from IPython.display import SVG\n",
        "from keras.utils.vis_utils import model_to_dot\n",
        "from keras.utils.vis_utils import plot_model\n",
        "import seaborn as sns\n",
        "import matplotlib.pyplot as plt\n",
        "%matplotlib inline \n",
        "import plotly.graph_objs as go\n",
        "import plotly.figure_factory as ff\n",
        "from plotly import tools\n",
        "from plotly.offline import download_plotlyjs, init_notebook_mode, plot, iplot\n",
        "from tensorflow import keras\n",
        "from tensorflow.keras.utils import to_categorical\n",
        "init_notebook_mode(connected=True)\n",
        "import warnings\n",
        "warnings.filterwarnings('ignore')\n"
      ],
      "execution_count": 164,
      "outputs": [
        {
          "output_type": "display_data",
          "data": {
            "text/html": [
              "        <script type=\"text/javascript\">\n",
              "        window.PlotlyConfig = {MathJaxConfig: 'local'};\n",
              "        if (window.MathJax) {MathJax.Hub.Config({SVG: {font: \"STIX-Web\"}});}\n",
              "        if (typeof require !== 'undefined') {\n",
              "        require.undef(\"plotly\");\n",
              "        requirejs.config({\n",
              "            paths: {\n",
              "                'plotly': ['https://cdn.plot.ly/plotly-latest.min']\n",
              "            }\n",
              "        });\n",
              "        require(['plotly'], function(Plotly) {\n",
              "            window._Plotly = Plotly;\n",
              "        });\n",
              "        }\n",
              "        </script>\n",
              "        "
            ]
          },
          "metadata": {
            "tags": []
          }
        }
      ]
    },
    {
      "cell_type": "code",
      "metadata": {
        "colab": {
          "base_uri": "https://localhost:8080/"
        },
        "id": "7gLNE3QIP0UU",
        "outputId": "5f8ccd62-3267-48f2-e7f3-827fa5fecc3a"
      },
      "source": [
        "from google.colab import drive\n",
        "drive.mount('/content/drive')"
      ],
      "execution_count": 165,
      "outputs": [
        {
          "output_type": "stream",
          "text": [
            "Drive already mounted at /content/drive; to attempt to forcibly remount, call drive.mount(\"/content/drive\", force_remount=True).\n"
          ],
          "name": "stdout"
        }
      ]
    },
    {
      "cell_type": "code",
      "metadata": {
        "colab": {
          "base_uri": "https://localhost:8080/"
        },
        "id": "06p-2K8GgzQZ",
        "outputId": "01f2d828-ec67-43ff-e3d2-98eb660c7e8b"
      },
      "source": [
        "IMG_ROWS = 28\n",
        "IMG_COLS = 28\n",
        "NUM_CLASSES = 10\n",
        "TEST_SIZE = 0.2\n",
        "RANDOM_STATE = 2018\n",
        "#Model\n",
        "NO_EPOCHS = 15\n",
        "BATCH_SIZE = 128\n",
        "\n",
        "IS_LOCAL = False\n",
        "\n",
        "import os\n",
        "\n",
        "if(IS_LOCAL):\n",
        "    PATH=\"../content/drive/MyDrive/Colab Notebooks/Dataset/fashion-mnist/\"\n",
        "else:\n",
        "    PATH=\"../content/drive/MyDrive/Colab Notebooks/Dataset/fashion-mnist/\"\n",
        "print(os.listdir(PATH))"
      ],
      "execution_count": 166,
      "outputs": [
        {
          "output_type": "stream",
          "text": [
            "['fashion-mnist_test.csv', 'fashion-mnist_train.csv', 't10k-labels-idx1-ubyte', 'train-labels-idx1-ubyte', 't10k-images-idx3-ubyte', '.ipynb_checkpoints', 'train-images-idx3-ubyte']\n"
          ],
          "name": "stdout"
        }
      ]
    },
    {
      "cell_type": "code",
      "metadata": {
        "id": "nrrKqak1hEhg"
      },
      "source": [
        "train_file = PATH+\"fashion-mnist_train.csv\"\n",
        "test_file  = PATH+\"fashion-mnist_test.csv\"\n",
        "\n",
        "train_data = pd.read_csv(train_file)\n",
        "test_data = pd.read_csv(test_file)"
      ],
      "execution_count": 167,
      "outputs": []
    },
    {
      "cell_type": "code",
      "metadata": {
        "colab": {
          "base_uri": "https://localhost:8080/"
        },
        "id": "V4QQb9DaVQ_K",
        "outputId": "78e0a158-85b5-4c41-ef63-a9a608b834e3"
      },
      "source": [
        "print(\"Fashion MNIST train -  rows:\",train_data.shape[0],\" columns:\", train_data.shape[1])\n",
        "print(\"Fashion MNIST test -  rows:\",test_data.shape[0],\" columns:\", test_data.shape[1])"
      ],
      "execution_count": 168,
      "outputs": [
        {
          "output_type": "stream",
          "text": [
            "Fashion MNIST train -  rows: 60000  columns: 785\n",
            "Fashion MNIST test -  rows: 10000  columns: 785\n"
          ],
          "name": "stdout"
        }
      ]
    },
    {
      "cell_type": "code",
      "metadata": {
        "colab": {
          "base_uri": "https://localhost:8080/",
          "height": 407
        },
        "id": "9V2irWbMBYIs",
        "outputId": "af2b681f-d8d9-4b32-a9b8-3e8d60ba1f35"
      },
      "source": [
        "train_data.head(10)\n",
        "test_data.head(10)"
      ],
      "execution_count": 169,
      "outputs": [
        {
          "output_type": "execute_result",
          "data": {
            "text/html": [
              "<div>\n",
              "<style scoped>\n",
              "    .dataframe tbody tr th:only-of-type {\n",
              "        vertical-align: middle;\n",
              "    }\n",
              "\n",
              "    .dataframe tbody tr th {\n",
              "        vertical-align: top;\n",
              "    }\n",
              "\n",
              "    .dataframe thead th {\n",
              "        text-align: right;\n",
              "    }\n",
              "</style>\n",
              "<table border=\"1\" class=\"dataframe\">\n",
              "  <thead>\n",
              "    <tr style=\"text-align: right;\">\n",
              "      <th></th>\n",
              "      <th>label</th>\n",
              "      <th>pixel1</th>\n",
              "      <th>pixel2</th>\n",
              "      <th>pixel3</th>\n",
              "      <th>pixel4</th>\n",
              "      <th>pixel5</th>\n",
              "      <th>pixel6</th>\n",
              "      <th>pixel7</th>\n",
              "      <th>pixel8</th>\n",
              "      <th>pixel9</th>\n",
              "      <th>pixel10</th>\n",
              "      <th>pixel11</th>\n",
              "      <th>pixel12</th>\n",
              "      <th>pixel13</th>\n",
              "      <th>pixel14</th>\n",
              "      <th>pixel15</th>\n",
              "      <th>pixel16</th>\n",
              "      <th>pixel17</th>\n",
              "      <th>pixel18</th>\n",
              "      <th>pixel19</th>\n",
              "      <th>pixel20</th>\n",
              "      <th>pixel21</th>\n",
              "      <th>pixel22</th>\n",
              "      <th>pixel23</th>\n",
              "      <th>pixel24</th>\n",
              "      <th>pixel25</th>\n",
              "      <th>pixel26</th>\n",
              "      <th>pixel27</th>\n",
              "      <th>pixel28</th>\n",
              "      <th>pixel29</th>\n",
              "      <th>pixel30</th>\n",
              "      <th>pixel31</th>\n",
              "      <th>pixel32</th>\n",
              "      <th>pixel33</th>\n",
              "      <th>pixel34</th>\n",
              "      <th>pixel35</th>\n",
              "      <th>pixel36</th>\n",
              "      <th>pixel37</th>\n",
              "      <th>pixel38</th>\n",
              "      <th>pixel39</th>\n",
              "      <th>...</th>\n",
              "      <th>pixel745</th>\n",
              "      <th>pixel746</th>\n",
              "      <th>pixel747</th>\n",
              "      <th>pixel748</th>\n",
              "      <th>pixel749</th>\n",
              "      <th>pixel750</th>\n",
              "      <th>pixel751</th>\n",
              "      <th>pixel752</th>\n",
              "      <th>pixel753</th>\n",
              "      <th>pixel754</th>\n",
              "      <th>pixel755</th>\n",
              "      <th>pixel756</th>\n",
              "      <th>pixel757</th>\n",
              "      <th>pixel758</th>\n",
              "      <th>pixel759</th>\n",
              "      <th>pixel760</th>\n",
              "      <th>pixel761</th>\n",
              "      <th>pixel762</th>\n",
              "      <th>pixel763</th>\n",
              "      <th>pixel764</th>\n",
              "      <th>pixel765</th>\n",
              "      <th>pixel766</th>\n",
              "      <th>pixel767</th>\n",
              "      <th>pixel768</th>\n",
              "      <th>pixel769</th>\n",
              "      <th>pixel770</th>\n",
              "      <th>pixel771</th>\n",
              "      <th>pixel772</th>\n",
              "      <th>pixel773</th>\n",
              "      <th>pixel774</th>\n",
              "      <th>pixel775</th>\n",
              "      <th>pixel776</th>\n",
              "      <th>pixel777</th>\n",
              "      <th>pixel778</th>\n",
              "      <th>pixel779</th>\n",
              "      <th>pixel780</th>\n",
              "      <th>pixel781</th>\n",
              "      <th>pixel782</th>\n",
              "      <th>pixel783</th>\n",
              "      <th>pixel784</th>\n",
              "    </tr>\n",
              "  </thead>\n",
              "  <tbody>\n",
              "    <tr>\n",
              "      <th>0</th>\n",
              "      <td>0</td>\n",
              "      <td>0</td>\n",
              "      <td>0</td>\n",
              "      <td>0</td>\n",
              "      <td>0</td>\n",
              "      <td>0</td>\n",
              "      <td>0</td>\n",
              "      <td>0</td>\n",
              "      <td>9</td>\n",
              "      <td>8</td>\n",
              "      <td>0</td>\n",
              "      <td>0</td>\n",
              "      <td>34</td>\n",
              "      <td>29</td>\n",
              "      <td>7</td>\n",
              "      <td>0</td>\n",
              "      <td>11</td>\n",
              "      <td>24</td>\n",
              "      <td>0</td>\n",
              "      <td>0</td>\n",
              "      <td>3</td>\n",
              "      <td>3</td>\n",
              "      <td>1</td>\n",
              "      <td>0</td>\n",
              "      <td>1</td>\n",
              "      <td>1</td>\n",
              "      <td>0</td>\n",
              "      <td>0</td>\n",
              "      <td>0</td>\n",
              "      <td>0</td>\n",
              "      <td>0</td>\n",
              "      <td>4</td>\n",
              "      <td>0</td>\n",
              "      <td>0</td>\n",
              "      <td>1</td>\n",
              "      <td>0</td>\n",
              "      <td>0</td>\n",
              "      <td>0</td>\n",
              "      <td>0</td>\n",
              "      <td>0</td>\n",
              "      <td>...</td>\n",
              "      <td>242</td>\n",
              "      <td>245</td>\n",
              "      <td>224</td>\n",
              "      <td>245</td>\n",
              "      <td>234</td>\n",
              "      <td>0</td>\n",
              "      <td>3</td>\n",
              "      <td>0</td>\n",
              "      <td>0</td>\n",
              "      <td>0</td>\n",
              "      <td>0</td>\n",
              "      <td>0</td>\n",
              "      <td>0</td>\n",
              "      <td>0</td>\n",
              "      <td>0</td>\n",
              "      <td>0</td>\n",
              "      <td>0</td>\n",
              "      <td>0</td>\n",
              "      <td>0</td>\n",
              "      <td>37</td>\n",
              "      <td>69</td>\n",
              "      <td>94</td>\n",
              "      <td>123</td>\n",
              "      <td>127</td>\n",
              "      <td>138</td>\n",
              "      <td>138</td>\n",
              "      <td>142</td>\n",
              "      <td>145</td>\n",
              "      <td>135</td>\n",
              "      <td>125</td>\n",
              "      <td>103</td>\n",
              "      <td>87</td>\n",
              "      <td>56</td>\n",
              "      <td>0</td>\n",
              "      <td>0</td>\n",
              "      <td>0</td>\n",
              "      <td>0</td>\n",
              "      <td>0</td>\n",
              "      <td>0</td>\n",
              "      <td>0</td>\n",
              "    </tr>\n",
              "    <tr>\n",
              "      <th>1</th>\n",
              "      <td>1</td>\n",
              "      <td>0</td>\n",
              "      <td>0</td>\n",
              "      <td>0</td>\n",
              "      <td>0</td>\n",
              "      <td>0</td>\n",
              "      <td>0</td>\n",
              "      <td>0</td>\n",
              "      <td>0</td>\n",
              "      <td>0</td>\n",
              "      <td>0</td>\n",
              "      <td>0</td>\n",
              "      <td>209</td>\n",
              "      <td>190</td>\n",
              "      <td>181</td>\n",
              "      <td>150</td>\n",
              "      <td>170</td>\n",
              "      <td>193</td>\n",
              "      <td>180</td>\n",
              "      <td>219</td>\n",
              "      <td>5</td>\n",
              "      <td>0</td>\n",
              "      <td>0</td>\n",
              "      <td>0</td>\n",
              "      <td>0</td>\n",
              "      <td>0</td>\n",
              "      <td>0</td>\n",
              "      <td>0</td>\n",
              "      <td>0</td>\n",
              "      <td>0</td>\n",
              "      <td>0</td>\n",
              "      <td>0</td>\n",
              "      <td>0</td>\n",
              "      <td>0</td>\n",
              "      <td>0</td>\n",
              "      <td>0</td>\n",
              "      <td>0</td>\n",
              "      <td>0</td>\n",
              "      <td>0</td>\n",
              "      <td>24</td>\n",
              "      <td>...</td>\n",
              "      <td>248</td>\n",
              "      <td>238</td>\n",
              "      <td>80</td>\n",
              "      <td>0</td>\n",
              "      <td>0</td>\n",
              "      <td>0</td>\n",
              "      <td>0</td>\n",
              "      <td>0</td>\n",
              "      <td>0</td>\n",
              "      <td>0</td>\n",
              "      <td>0</td>\n",
              "      <td>0</td>\n",
              "      <td>0</td>\n",
              "      <td>0</td>\n",
              "      <td>0</td>\n",
              "      <td>0</td>\n",
              "      <td>0</td>\n",
              "      <td>0</td>\n",
              "      <td>0</td>\n",
              "      <td>0</td>\n",
              "      <td>0</td>\n",
              "      <td>0</td>\n",
              "      <td>0</td>\n",
              "      <td>174</td>\n",
              "      <td>233</td>\n",
              "      <td>155</td>\n",
              "      <td>0</td>\n",
              "      <td>65</td>\n",
              "      <td>235</td>\n",
              "      <td>216</td>\n",
              "      <td>34</td>\n",
              "      <td>0</td>\n",
              "      <td>0</td>\n",
              "      <td>0</td>\n",
              "      <td>0</td>\n",
              "      <td>0</td>\n",
              "      <td>0</td>\n",
              "      <td>0</td>\n",
              "      <td>0</td>\n",
              "      <td>0</td>\n",
              "    </tr>\n",
              "    <tr>\n",
              "      <th>2</th>\n",
              "      <td>2</td>\n",
              "      <td>0</td>\n",
              "      <td>0</td>\n",
              "      <td>0</td>\n",
              "      <td>0</td>\n",
              "      <td>0</td>\n",
              "      <td>0</td>\n",
              "      <td>14</td>\n",
              "      <td>53</td>\n",
              "      <td>99</td>\n",
              "      <td>17</td>\n",
              "      <td>0</td>\n",
              "      <td>0</td>\n",
              "      <td>0</td>\n",
              "      <td>0</td>\n",
              "      <td>0</td>\n",
              "      <td>0</td>\n",
              "      <td>0</td>\n",
              "      <td>0</td>\n",
              "      <td>12</td>\n",
              "      <td>94</td>\n",
              "      <td>68</td>\n",
              "      <td>14</td>\n",
              "      <td>0</td>\n",
              "      <td>0</td>\n",
              "      <td>0</td>\n",
              "      <td>0</td>\n",
              "      <td>0</td>\n",
              "      <td>0</td>\n",
              "      <td>0</td>\n",
              "      <td>0</td>\n",
              "      <td>0</td>\n",
              "      <td>0</td>\n",
              "      <td>0</td>\n",
              "      <td>38</td>\n",
              "      <td>106</td>\n",
              "      <td>94</td>\n",
              "      <td>89</td>\n",
              "      <td>94</td>\n",
              "      <td>68</td>\n",
              "      <td>...</td>\n",
              "      <td>0</td>\n",
              "      <td>0</td>\n",
              "      <td>0</td>\n",
              "      <td>0</td>\n",
              "      <td>0</td>\n",
              "      <td>0</td>\n",
              "      <td>87</td>\n",
              "      <td>12</td>\n",
              "      <td>26</td>\n",
              "      <td>0</td>\n",
              "      <td>0</td>\n",
              "      <td>0</td>\n",
              "      <td>0</td>\n",
              "      <td>0</td>\n",
              "      <td>0</td>\n",
              "      <td>0</td>\n",
              "      <td>46</td>\n",
              "      <td>50</td>\n",
              "      <td>29</td>\n",
              "      <td>0</td>\n",
              "      <td>2</td>\n",
              "      <td>0</td>\n",
              "      <td>0</td>\n",
              "      <td>0</td>\n",
              "      <td>0</td>\n",
              "      <td>0</td>\n",
              "      <td>0</td>\n",
              "      <td>0</td>\n",
              "      <td>0</td>\n",
              "      <td>0</td>\n",
              "      <td>0</td>\n",
              "      <td>0</td>\n",
              "      <td>0</td>\n",
              "      <td>0</td>\n",
              "      <td>63</td>\n",
              "      <td>53</td>\n",
              "      <td>31</td>\n",
              "      <td>0</td>\n",
              "      <td>0</td>\n",
              "      <td>0</td>\n",
              "    </tr>\n",
              "    <tr>\n",
              "      <th>3</th>\n",
              "      <td>2</td>\n",
              "      <td>0</td>\n",
              "      <td>0</td>\n",
              "      <td>0</td>\n",
              "      <td>0</td>\n",
              "      <td>0</td>\n",
              "      <td>0</td>\n",
              "      <td>0</td>\n",
              "      <td>0</td>\n",
              "      <td>0</td>\n",
              "      <td>161</td>\n",
              "      <td>212</td>\n",
              "      <td>138</td>\n",
              "      <td>150</td>\n",
              "      <td>169</td>\n",
              "      <td>164</td>\n",
              "      <td>176</td>\n",
              "      <td>202</td>\n",
              "      <td>255</td>\n",
              "      <td>183</td>\n",
              "      <td>26</td>\n",
              "      <td>0</td>\n",
              "      <td>0</td>\n",
              "      <td>0</td>\n",
              "      <td>0</td>\n",
              "      <td>0</td>\n",
              "      <td>0</td>\n",
              "      <td>0</td>\n",
              "      <td>0</td>\n",
              "      <td>0</td>\n",
              "      <td>0</td>\n",
              "      <td>0</td>\n",
              "      <td>1</td>\n",
              "      <td>0</td>\n",
              "      <td>0</td>\n",
              "      <td>129</td>\n",
              "      <td>221</td>\n",
              "      <td>255</td>\n",
              "      <td>255</td>\n",
              "      <td>215</td>\n",
              "      <td>...</td>\n",
              "      <td>255</td>\n",
              "      <td>255</td>\n",
              "      <td>254</td>\n",
              "      <td>252</td>\n",
              "      <td>255</td>\n",
              "      <td>101</td>\n",
              "      <td>196</td>\n",
              "      <td>254</td>\n",
              "      <td>252</td>\n",
              "      <td>100</td>\n",
              "      <td>0</td>\n",
              "      <td>0</td>\n",
              "      <td>0</td>\n",
              "      <td>0</td>\n",
              "      <td>0</td>\n",
              "      <td>168</td>\n",
              "      <td>232</td>\n",
              "      <td>225</td>\n",
              "      <td>0</td>\n",
              "      <td>41</td>\n",
              "      <td>172</td>\n",
              "      <td>147</td>\n",
              "      <td>148</td>\n",
              "      <td>153</td>\n",
              "      <td>155</td>\n",
              "      <td>146</td>\n",
              "      <td>137</td>\n",
              "      <td>141</td>\n",
              "      <td>143</td>\n",
              "      <td>137</td>\n",
              "      <td>137</td>\n",
              "      <td>126</td>\n",
              "      <td>140</td>\n",
              "      <td>0</td>\n",
              "      <td>133</td>\n",
              "      <td>224</td>\n",
              "      <td>222</td>\n",
              "      <td>56</td>\n",
              "      <td>0</td>\n",
              "      <td>0</td>\n",
              "    </tr>\n",
              "    <tr>\n",
              "      <th>4</th>\n",
              "      <td>3</td>\n",
              "      <td>0</td>\n",
              "      <td>0</td>\n",
              "      <td>0</td>\n",
              "      <td>0</td>\n",
              "      <td>0</td>\n",
              "      <td>0</td>\n",
              "      <td>0</td>\n",
              "      <td>0</td>\n",
              "      <td>0</td>\n",
              "      <td>0</td>\n",
              "      <td>37</td>\n",
              "      <td>0</td>\n",
              "      <td>0</td>\n",
              "      <td>0</td>\n",
              "      <td>0</td>\n",
              "      <td>0</td>\n",
              "      <td>0</td>\n",
              "      <td>17</td>\n",
              "      <td>0</td>\n",
              "      <td>0</td>\n",
              "      <td>0</td>\n",
              "      <td>0</td>\n",
              "      <td>0</td>\n",
              "      <td>0</td>\n",
              "      <td>0</td>\n",
              "      <td>0</td>\n",
              "      <td>0</td>\n",
              "      <td>0</td>\n",
              "      <td>0</td>\n",
              "      <td>0</td>\n",
              "      <td>0</td>\n",
              "      <td>0</td>\n",
              "      <td>0</td>\n",
              "      <td>0</td>\n",
              "      <td>0</td>\n",
              "      <td>0</td>\n",
              "      <td>21</td>\n",
              "      <td>204</td>\n",
              "      <td>235</td>\n",
              "      <td>...</td>\n",
              "      <td>0</td>\n",
              "      <td>2</td>\n",
              "      <td>0</td>\n",
              "      <td>0</td>\n",
              "      <td>0</td>\n",
              "      <td>0</td>\n",
              "      <td>0</td>\n",
              "      <td>0</td>\n",
              "      <td>0</td>\n",
              "      <td>0</td>\n",
              "      <td>0</td>\n",
              "      <td>0</td>\n",
              "      <td>0</td>\n",
              "      <td>0</td>\n",
              "      <td>0</td>\n",
              "      <td>0</td>\n",
              "      <td>0</td>\n",
              "      <td>0</td>\n",
              "      <td>0</td>\n",
              "      <td>0</td>\n",
              "      <td>0</td>\n",
              "      <td>0</td>\n",
              "      <td>0</td>\n",
              "      <td>0</td>\n",
              "      <td>1</td>\n",
              "      <td>0</td>\n",
              "      <td>2</td>\n",
              "      <td>69</td>\n",
              "      <td>0</td>\n",
              "      <td>2</td>\n",
              "      <td>0</td>\n",
              "      <td>0</td>\n",
              "      <td>0</td>\n",
              "      <td>0</td>\n",
              "      <td>0</td>\n",
              "      <td>0</td>\n",
              "      <td>0</td>\n",
              "      <td>0</td>\n",
              "      <td>0</td>\n",
              "      <td>0</td>\n",
              "    </tr>\n",
              "    <tr>\n",
              "      <th>5</th>\n",
              "      <td>2</td>\n",
              "      <td>0</td>\n",
              "      <td>0</td>\n",
              "      <td>0</td>\n",
              "      <td>0</td>\n",
              "      <td>0</td>\n",
              "      <td>44</td>\n",
              "      <td>105</td>\n",
              "      <td>44</td>\n",
              "      <td>10</td>\n",
              "      <td>0</td>\n",
              "      <td>0</td>\n",
              "      <td>0</td>\n",
              "      <td>0</td>\n",
              "      <td>0</td>\n",
              "      <td>0</td>\n",
              "      <td>0</td>\n",
              "      <td>0</td>\n",
              "      <td>0</td>\n",
              "      <td>0</td>\n",
              "      <td>0</td>\n",
              "      <td>34</td>\n",
              "      <td>68</td>\n",
              "      <td>34</td>\n",
              "      <td>0</td>\n",
              "      <td>0</td>\n",
              "      <td>0</td>\n",
              "      <td>0</td>\n",
              "      <td>0</td>\n",
              "      <td>0</td>\n",
              "      <td>0</td>\n",
              "      <td>0</td>\n",
              "      <td>0</td>\n",
              "      <td>34</td>\n",
              "      <td>136</td>\n",
              "      <td>102</td>\n",
              "      <td>105</td>\n",
              "      <td>98</td>\n",
              "      <td>74</td>\n",
              "      <td>64</td>\n",
              "      <td>...</td>\n",
              "      <td>129</td>\n",
              "      <td>122</td>\n",
              "      <td>125</td>\n",
              "      <td>139</td>\n",
              "      <td>132</td>\n",
              "      <td>132</td>\n",
              "      <td>10</td>\n",
              "      <td>0</td>\n",
              "      <td>0</td>\n",
              "      <td>0</td>\n",
              "      <td>0</td>\n",
              "      <td>0</td>\n",
              "      <td>0</td>\n",
              "      <td>0</td>\n",
              "      <td>0</td>\n",
              "      <td>0</td>\n",
              "      <td>0</td>\n",
              "      <td>0</td>\n",
              "      <td>0</td>\n",
              "      <td>23</td>\n",
              "      <td>57</td>\n",
              "      <td>105</td>\n",
              "      <td>108</td>\n",
              "      <td>115</td>\n",
              "      <td>125</td>\n",
              "      <td>125</td>\n",
              "      <td>122</td>\n",
              "      <td>122</td>\n",
              "      <td>125</td>\n",
              "      <td>119</td>\n",
              "      <td>105</td>\n",
              "      <td>64</td>\n",
              "      <td>30</td>\n",
              "      <td>0</td>\n",
              "      <td>0</td>\n",
              "      <td>0</td>\n",
              "      <td>0</td>\n",
              "      <td>0</td>\n",
              "      <td>0</td>\n",
              "      <td>0</td>\n",
              "    </tr>\n",
              "    <tr>\n",
              "      <th>6</th>\n",
              "      <td>8</td>\n",
              "      <td>0</td>\n",
              "      <td>0</td>\n",
              "      <td>0</td>\n",
              "      <td>0</td>\n",
              "      <td>0</td>\n",
              "      <td>0</td>\n",
              "      <td>0</td>\n",
              "      <td>0</td>\n",
              "      <td>0</td>\n",
              "      <td>0</td>\n",
              "      <td>0</td>\n",
              "      <td>0</td>\n",
              "      <td>0</td>\n",
              "      <td>0</td>\n",
              "      <td>0</td>\n",
              "      <td>0</td>\n",
              "      <td>0</td>\n",
              "      <td>0</td>\n",
              "      <td>0</td>\n",
              "      <td>0</td>\n",
              "      <td>0</td>\n",
              "      <td>0</td>\n",
              "      <td>0</td>\n",
              "      <td>0</td>\n",
              "      <td>0</td>\n",
              "      <td>0</td>\n",
              "      <td>0</td>\n",
              "      <td>0</td>\n",
              "      <td>0</td>\n",
              "      <td>0</td>\n",
              "      <td>0</td>\n",
              "      <td>0</td>\n",
              "      <td>0</td>\n",
              "      <td>0</td>\n",
              "      <td>0</td>\n",
              "      <td>0</td>\n",
              "      <td>0</td>\n",
              "      <td>0</td>\n",
              "      <td>0</td>\n",
              "      <td>...</td>\n",
              "      <td>0</td>\n",
              "      <td>0</td>\n",
              "      <td>0</td>\n",
              "      <td>0</td>\n",
              "      <td>0</td>\n",
              "      <td>0</td>\n",
              "      <td>0</td>\n",
              "      <td>0</td>\n",
              "      <td>0</td>\n",
              "      <td>0</td>\n",
              "      <td>0</td>\n",
              "      <td>0</td>\n",
              "      <td>0</td>\n",
              "      <td>0</td>\n",
              "      <td>0</td>\n",
              "      <td>0</td>\n",
              "      <td>0</td>\n",
              "      <td>0</td>\n",
              "      <td>0</td>\n",
              "      <td>0</td>\n",
              "      <td>0</td>\n",
              "      <td>0</td>\n",
              "      <td>0</td>\n",
              "      <td>0</td>\n",
              "      <td>0</td>\n",
              "      <td>0</td>\n",
              "      <td>0</td>\n",
              "      <td>0</td>\n",
              "      <td>0</td>\n",
              "      <td>0</td>\n",
              "      <td>0</td>\n",
              "      <td>0</td>\n",
              "      <td>0</td>\n",
              "      <td>0</td>\n",
              "      <td>0</td>\n",
              "      <td>0</td>\n",
              "      <td>0</td>\n",
              "      <td>0</td>\n",
              "      <td>0</td>\n",
              "      <td>0</td>\n",
              "    </tr>\n",
              "    <tr>\n",
              "      <th>7</th>\n",
              "      <td>6</td>\n",
              "      <td>0</td>\n",
              "      <td>0</td>\n",
              "      <td>0</td>\n",
              "      <td>0</td>\n",
              "      <td>0</td>\n",
              "      <td>0</td>\n",
              "      <td>0</td>\n",
              "      <td>1</td>\n",
              "      <td>0</td>\n",
              "      <td>0</td>\n",
              "      <td>0</td>\n",
              "      <td>108</td>\n",
              "      <td>25</td>\n",
              "      <td>0</td>\n",
              "      <td>0</td>\n",
              "      <td>0</td>\n",
              "      <td>132</td>\n",
              "      <td>54</td>\n",
              "      <td>0</td>\n",
              "      <td>0</td>\n",
              "      <td>0</td>\n",
              "      <td>2</td>\n",
              "      <td>0</td>\n",
              "      <td>1</td>\n",
              "      <td>0</td>\n",
              "      <td>0</td>\n",
              "      <td>0</td>\n",
              "      <td>0</td>\n",
              "      <td>0</td>\n",
              "      <td>0</td>\n",
              "      <td>0</td>\n",
              "      <td>0</td>\n",
              "      <td>0</td>\n",
              "      <td>0</td>\n",
              "      <td>0</td>\n",
              "      <td>0</td>\n",
              "      <td>11</td>\n",
              "      <td>61</td>\n",
              "      <td>102</td>\n",
              "      <td>...</td>\n",
              "      <td>146</td>\n",
              "      <td>196</td>\n",
              "      <td>197</td>\n",
              "      <td>136</td>\n",
              "      <td>215</td>\n",
              "      <td>42</td>\n",
              "      <td>0</td>\n",
              "      <td>3</td>\n",
              "      <td>0</td>\n",
              "      <td>0</td>\n",
              "      <td>0</td>\n",
              "      <td>0</td>\n",
              "      <td>0</td>\n",
              "      <td>0</td>\n",
              "      <td>0</td>\n",
              "      <td>0</td>\n",
              "      <td>0</td>\n",
              "      <td>0</td>\n",
              "      <td>1</td>\n",
              "      <td>0</td>\n",
              "      <td>82</td>\n",
              "      <td>172</td>\n",
              "      <td>159</td>\n",
              "      <td>150</td>\n",
              "      <td>140</td>\n",
              "      <td>142</td>\n",
              "      <td>164</td>\n",
              "      <td>160</td>\n",
              "      <td>153</td>\n",
              "      <td>202</td>\n",
              "      <td>174</td>\n",
              "      <td>136</td>\n",
              "      <td>155</td>\n",
              "      <td>31</td>\n",
              "      <td>0</td>\n",
              "      <td>1</td>\n",
              "      <td>0</td>\n",
              "      <td>0</td>\n",
              "      <td>0</td>\n",
              "      <td>0</td>\n",
              "    </tr>\n",
              "    <tr>\n",
              "      <th>8</th>\n",
              "      <td>5</td>\n",
              "      <td>0</td>\n",
              "      <td>0</td>\n",
              "      <td>0</td>\n",
              "      <td>0</td>\n",
              "      <td>0</td>\n",
              "      <td>0</td>\n",
              "      <td>0</td>\n",
              "      <td>0</td>\n",
              "      <td>0</td>\n",
              "      <td>0</td>\n",
              "      <td>0</td>\n",
              "      <td>0</td>\n",
              "      <td>0</td>\n",
              "      <td>0</td>\n",
              "      <td>0</td>\n",
              "      <td>0</td>\n",
              "      <td>0</td>\n",
              "      <td>0</td>\n",
              "      <td>0</td>\n",
              "      <td>0</td>\n",
              "      <td>0</td>\n",
              "      <td>0</td>\n",
              "      <td>0</td>\n",
              "      <td>0</td>\n",
              "      <td>0</td>\n",
              "      <td>0</td>\n",
              "      <td>0</td>\n",
              "      <td>0</td>\n",
              "      <td>0</td>\n",
              "      <td>0</td>\n",
              "      <td>0</td>\n",
              "      <td>0</td>\n",
              "      <td>0</td>\n",
              "      <td>0</td>\n",
              "      <td>0</td>\n",
              "      <td>0</td>\n",
              "      <td>0</td>\n",
              "      <td>0</td>\n",
              "      <td>0</td>\n",
              "      <td>...</td>\n",
              "      <td>0</td>\n",
              "      <td>0</td>\n",
              "      <td>0</td>\n",
              "      <td>0</td>\n",
              "      <td>0</td>\n",
              "      <td>0</td>\n",
              "      <td>3</td>\n",
              "      <td>0</td>\n",
              "      <td>75</td>\n",
              "      <td>192</td>\n",
              "      <td>0</td>\n",
              "      <td>0</td>\n",
              "      <td>0</td>\n",
              "      <td>0</td>\n",
              "      <td>0</td>\n",
              "      <td>0</td>\n",
              "      <td>0</td>\n",
              "      <td>0</td>\n",
              "      <td>0</td>\n",
              "      <td>0</td>\n",
              "      <td>0</td>\n",
              "      <td>0</td>\n",
              "      <td>0</td>\n",
              "      <td>0</td>\n",
              "      <td>0</td>\n",
              "      <td>0</td>\n",
              "      <td>0</td>\n",
              "      <td>0</td>\n",
              "      <td>0</td>\n",
              "      <td>0</td>\n",
              "      <td>0</td>\n",
              "      <td>0</td>\n",
              "      <td>0</td>\n",
              "      <td>0</td>\n",
              "      <td>0</td>\n",
              "      <td>0</td>\n",
              "      <td>0</td>\n",
              "      <td>0</td>\n",
              "      <td>0</td>\n",
              "      <td>0</td>\n",
              "    </tr>\n",
              "    <tr>\n",
              "      <th>9</th>\n",
              "      <td>0</td>\n",
              "      <td>0</td>\n",
              "      <td>0</td>\n",
              "      <td>0</td>\n",
              "      <td>0</td>\n",
              "      <td>0</td>\n",
              "      <td>0</td>\n",
              "      <td>0</td>\n",
              "      <td>0</td>\n",
              "      <td>0</td>\n",
              "      <td>0</td>\n",
              "      <td>92</td>\n",
              "      <td>66</td>\n",
              "      <td>0</td>\n",
              "      <td>0</td>\n",
              "      <td>0</td>\n",
              "      <td>0</td>\n",
              "      <td>81</td>\n",
              "      <td>91</td>\n",
              "      <td>0</td>\n",
              "      <td>0</td>\n",
              "      <td>0</td>\n",
              "      <td>0</td>\n",
              "      <td>0</td>\n",
              "      <td>0</td>\n",
              "      <td>0</td>\n",
              "      <td>0</td>\n",
              "      <td>0</td>\n",
              "      <td>0</td>\n",
              "      <td>0</td>\n",
              "      <td>0</td>\n",
              "      <td>0</td>\n",
              "      <td>0</td>\n",
              "      <td>0</td>\n",
              "      <td>0</td>\n",
              "      <td>0</td>\n",
              "      <td>27</td>\n",
              "      <td>75</td>\n",
              "      <td>111</td>\n",
              "      <td>118</td>\n",
              "      <td>...</td>\n",
              "      <td>121</td>\n",
              "      <td>117</td>\n",
              "      <td>104</td>\n",
              "      <td>110</td>\n",
              "      <td>69</td>\n",
              "      <td>0</td>\n",
              "      <td>0</td>\n",
              "      <td>1</td>\n",
              "      <td>0</td>\n",
              "      <td>0</td>\n",
              "      <td>0</td>\n",
              "      <td>0</td>\n",
              "      <td>0</td>\n",
              "      <td>0</td>\n",
              "      <td>0</td>\n",
              "      <td>0</td>\n",
              "      <td>0</td>\n",
              "      <td>0</td>\n",
              "      <td>0</td>\n",
              "      <td>49</td>\n",
              "      <td>63</td>\n",
              "      <td>52</td>\n",
              "      <td>55</td>\n",
              "      <td>57</td>\n",
              "      <td>57</td>\n",
              "      <td>55</td>\n",
              "      <td>53</td>\n",
              "      <td>53</td>\n",
              "      <td>55</td>\n",
              "      <td>61</td>\n",
              "      <td>57</td>\n",
              "      <td>70</td>\n",
              "      <td>28</td>\n",
              "      <td>0</td>\n",
              "      <td>2</td>\n",
              "      <td>0</td>\n",
              "      <td>0</td>\n",
              "      <td>0</td>\n",
              "      <td>0</td>\n",
              "      <td>0</td>\n",
              "    </tr>\n",
              "  </tbody>\n",
              "</table>\n",
              "<p>10 rows × 785 columns</p>\n",
              "</div>"
            ],
            "text/plain": [
              "   label  pixel1  pixel2  pixel3  ...  pixel781  pixel782  pixel783  pixel784\n",
              "0      0       0       0       0  ...         0         0         0         0\n",
              "1      1       0       0       0  ...         0         0         0         0\n",
              "2      2       0       0       0  ...        31         0         0         0\n",
              "3      2       0       0       0  ...       222        56         0         0\n",
              "4      3       0       0       0  ...         0         0         0         0\n",
              "5      2       0       0       0  ...         0         0         0         0\n",
              "6      8       0       0       0  ...         0         0         0         0\n",
              "7      6       0       0       0  ...         0         0         0         0\n",
              "8      5       0       0       0  ...         0         0         0         0\n",
              "9      0       0       0       0  ...         0         0         0         0\n",
              "\n",
              "[10 rows x 785 columns]"
            ]
          },
          "metadata": {
            "tags": []
          },
          "execution_count": 169
        }
      ]
    },
    {
      "cell_type": "code",
      "metadata": {
        "colab": {
          "base_uri": "https://localhost:8080/",
          "height": 252
        },
        "id": "o3fwpnwoUUvH",
        "outputId": "f4013318-a372-430c-8230-a5df697c3c96"
      },
      "source": [
        "# Select all columns but the first\n",
        "features = train_data[train_data.columns[1:]]\n",
        "features.head()"
      ],
      "execution_count": 170,
      "outputs": [
        {
          "output_type": "execute_result",
          "data": {
            "text/html": [
              "<div>\n",
              "<style scoped>\n",
              "    .dataframe tbody tr th:only-of-type {\n",
              "        vertical-align: middle;\n",
              "    }\n",
              "\n",
              "    .dataframe tbody tr th {\n",
              "        vertical-align: top;\n",
              "    }\n",
              "\n",
              "    .dataframe thead th {\n",
              "        text-align: right;\n",
              "    }\n",
              "</style>\n",
              "<table border=\"1\" class=\"dataframe\">\n",
              "  <thead>\n",
              "    <tr style=\"text-align: right;\">\n",
              "      <th></th>\n",
              "      <th>pixel1</th>\n",
              "      <th>pixel2</th>\n",
              "      <th>pixel3</th>\n",
              "      <th>pixel4</th>\n",
              "      <th>pixel5</th>\n",
              "      <th>pixel6</th>\n",
              "      <th>pixel7</th>\n",
              "      <th>pixel8</th>\n",
              "      <th>pixel9</th>\n",
              "      <th>pixel10</th>\n",
              "      <th>pixel11</th>\n",
              "      <th>pixel12</th>\n",
              "      <th>pixel13</th>\n",
              "      <th>pixel14</th>\n",
              "      <th>pixel15</th>\n",
              "      <th>pixel16</th>\n",
              "      <th>pixel17</th>\n",
              "      <th>pixel18</th>\n",
              "      <th>pixel19</th>\n",
              "      <th>pixel20</th>\n",
              "      <th>pixel21</th>\n",
              "      <th>pixel22</th>\n",
              "      <th>pixel23</th>\n",
              "      <th>pixel24</th>\n",
              "      <th>pixel25</th>\n",
              "      <th>pixel26</th>\n",
              "      <th>pixel27</th>\n",
              "      <th>pixel28</th>\n",
              "      <th>pixel29</th>\n",
              "      <th>pixel30</th>\n",
              "      <th>pixel31</th>\n",
              "      <th>pixel32</th>\n",
              "      <th>pixel33</th>\n",
              "      <th>pixel34</th>\n",
              "      <th>pixel35</th>\n",
              "      <th>pixel36</th>\n",
              "      <th>pixel37</th>\n",
              "      <th>pixel38</th>\n",
              "      <th>pixel39</th>\n",
              "      <th>pixel40</th>\n",
              "      <th>...</th>\n",
              "      <th>pixel745</th>\n",
              "      <th>pixel746</th>\n",
              "      <th>pixel747</th>\n",
              "      <th>pixel748</th>\n",
              "      <th>pixel749</th>\n",
              "      <th>pixel750</th>\n",
              "      <th>pixel751</th>\n",
              "      <th>pixel752</th>\n",
              "      <th>pixel753</th>\n",
              "      <th>pixel754</th>\n",
              "      <th>pixel755</th>\n",
              "      <th>pixel756</th>\n",
              "      <th>pixel757</th>\n",
              "      <th>pixel758</th>\n",
              "      <th>pixel759</th>\n",
              "      <th>pixel760</th>\n",
              "      <th>pixel761</th>\n",
              "      <th>pixel762</th>\n",
              "      <th>pixel763</th>\n",
              "      <th>pixel764</th>\n",
              "      <th>pixel765</th>\n",
              "      <th>pixel766</th>\n",
              "      <th>pixel767</th>\n",
              "      <th>pixel768</th>\n",
              "      <th>pixel769</th>\n",
              "      <th>pixel770</th>\n",
              "      <th>pixel771</th>\n",
              "      <th>pixel772</th>\n",
              "      <th>pixel773</th>\n",
              "      <th>pixel774</th>\n",
              "      <th>pixel775</th>\n",
              "      <th>pixel776</th>\n",
              "      <th>pixel777</th>\n",
              "      <th>pixel778</th>\n",
              "      <th>pixel779</th>\n",
              "      <th>pixel780</th>\n",
              "      <th>pixel781</th>\n",
              "      <th>pixel782</th>\n",
              "      <th>pixel783</th>\n",
              "      <th>pixel784</th>\n",
              "    </tr>\n",
              "  </thead>\n",
              "  <tbody>\n",
              "    <tr>\n",
              "      <th>0</th>\n",
              "      <td>0</td>\n",
              "      <td>0</td>\n",
              "      <td>0</td>\n",
              "      <td>0</td>\n",
              "      <td>0</td>\n",
              "      <td>0</td>\n",
              "      <td>0</td>\n",
              "      <td>0</td>\n",
              "      <td>0</td>\n",
              "      <td>0</td>\n",
              "      <td>0</td>\n",
              "      <td>0</td>\n",
              "      <td>0</td>\n",
              "      <td>0</td>\n",
              "      <td>0</td>\n",
              "      <td>0</td>\n",
              "      <td>0</td>\n",
              "      <td>0</td>\n",
              "      <td>0</td>\n",
              "      <td>0</td>\n",
              "      <td>0</td>\n",
              "      <td>0</td>\n",
              "      <td>0</td>\n",
              "      <td>0</td>\n",
              "      <td>0</td>\n",
              "      <td>0</td>\n",
              "      <td>0</td>\n",
              "      <td>0</td>\n",
              "      <td>0</td>\n",
              "      <td>0</td>\n",
              "      <td>0</td>\n",
              "      <td>0</td>\n",
              "      <td>0</td>\n",
              "      <td>0</td>\n",
              "      <td>0</td>\n",
              "      <td>0</td>\n",
              "      <td>0</td>\n",
              "      <td>0</td>\n",
              "      <td>0</td>\n",
              "      <td>0</td>\n",
              "      <td>...</td>\n",
              "      <td>0</td>\n",
              "      <td>0</td>\n",
              "      <td>0</td>\n",
              "      <td>0</td>\n",
              "      <td>0</td>\n",
              "      <td>0</td>\n",
              "      <td>0</td>\n",
              "      <td>0</td>\n",
              "      <td>0</td>\n",
              "      <td>0</td>\n",
              "      <td>0</td>\n",
              "      <td>0</td>\n",
              "      <td>0</td>\n",
              "      <td>0</td>\n",
              "      <td>0</td>\n",
              "      <td>0</td>\n",
              "      <td>0</td>\n",
              "      <td>0</td>\n",
              "      <td>0</td>\n",
              "      <td>0</td>\n",
              "      <td>0</td>\n",
              "      <td>0</td>\n",
              "      <td>0</td>\n",
              "      <td>0</td>\n",
              "      <td>0</td>\n",
              "      <td>0</td>\n",
              "      <td>0</td>\n",
              "      <td>0</td>\n",
              "      <td>0</td>\n",
              "      <td>0</td>\n",
              "      <td>0</td>\n",
              "      <td>0</td>\n",
              "      <td>0</td>\n",
              "      <td>0</td>\n",
              "      <td>0</td>\n",
              "      <td>0</td>\n",
              "      <td>0</td>\n",
              "      <td>0</td>\n",
              "      <td>0</td>\n",
              "      <td>0</td>\n",
              "    </tr>\n",
              "    <tr>\n",
              "      <th>1</th>\n",
              "      <td>0</td>\n",
              "      <td>0</td>\n",
              "      <td>0</td>\n",
              "      <td>0</td>\n",
              "      <td>0</td>\n",
              "      <td>0</td>\n",
              "      <td>0</td>\n",
              "      <td>0</td>\n",
              "      <td>0</td>\n",
              "      <td>0</td>\n",
              "      <td>0</td>\n",
              "      <td>0</td>\n",
              "      <td>0</td>\n",
              "      <td>0</td>\n",
              "      <td>0</td>\n",
              "      <td>0</td>\n",
              "      <td>0</td>\n",
              "      <td>0</td>\n",
              "      <td>0</td>\n",
              "      <td>0</td>\n",
              "      <td>0</td>\n",
              "      <td>0</td>\n",
              "      <td>0</td>\n",
              "      <td>0</td>\n",
              "      <td>0</td>\n",
              "      <td>0</td>\n",
              "      <td>0</td>\n",
              "      <td>0</td>\n",
              "      <td>0</td>\n",
              "      <td>0</td>\n",
              "      <td>0</td>\n",
              "      <td>0</td>\n",
              "      <td>0</td>\n",
              "      <td>0</td>\n",
              "      <td>0</td>\n",
              "      <td>0</td>\n",
              "      <td>0</td>\n",
              "      <td>0</td>\n",
              "      <td>0</td>\n",
              "      <td>0</td>\n",
              "      <td>...</td>\n",
              "      <td>0</td>\n",
              "      <td>0</td>\n",
              "      <td>0</td>\n",
              "      <td>0</td>\n",
              "      <td>0</td>\n",
              "      <td>0</td>\n",
              "      <td>0</td>\n",
              "      <td>0</td>\n",
              "      <td>0</td>\n",
              "      <td>0</td>\n",
              "      <td>0</td>\n",
              "      <td>0</td>\n",
              "      <td>0</td>\n",
              "      <td>0</td>\n",
              "      <td>0</td>\n",
              "      <td>0</td>\n",
              "      <td>0</td>\n",
              "      <td>0</td>\n",
              "      <td>0</td>\n",
              "      <td>0</td>\n",
              "      <td>0</td>\n",
              "      <td>0</td>\n",
              "      <td>0</td>\n",
              "      <td>0</td>\n",
              "      <td>0</td>\n",
              "      <td>0</td>\n",
              "      <td>0</td>\n",
              "      <td>0</td>\n",
              "      <td>0</td>\n",
              "      <td>0</td>\n",
              "      <td>0</td>\n",
              "      <td>0</td>\n",
              "      <td>0</td>\n",
              "      <td>0</td>\n",
              "      <td>0</td>\n",
              "      <td>0</td>\n",
              "      <td>0</td>\n",
              "      <td>0</td>\n",
              "      <td>0</td>\n",
              "      <td>0</td>\n",
              "    </tr>\n",
              "    <tr>\n",
              "      <th>2</th>\n",
              "      <td>0</td>\n",
              "      <td>0</td>\n",
              "      <td>0</td>\n",
              "      <td>0</td>\n",
              "      <td>0</td>\n",
              "      <td>0</td>\n",
              "      <td>0</td>\n",
              "      <td>5</td>\n",
              "      <td>0</td>\n",
              "      <td>0</td>\n",
              "      <td>0</td>\n",
              "      <td>105</td>\n",
              "      <td>92</td>\n",
              "      <td>101</td>\n",
              "      <td>107</td>\n",
              "      <td>100</td>\n",
              "      <td>132</td>\n",
              "      <td>0</td>\n",
              "      <td>0</td>\n",
              "      <td>2</td>\n",
              "      <td>4</td>\n",
              "      <td>0</td>\n",
              "      <td>1</td>\n",
              "      <td>0</td>\n",
              "      <td>0</td>\n",
              "      <td>0</td>\n",
              "      <td>0</td>\n",
              "      <td>0</td>\n",
              "      <td>0</td>\n",
              "      <td>0</td>\n",
              "      <td>0</td>\n",
              "      <td>0</td>\n",
              "      <td>0</td>\n",
              "      <td>0</td>\n",
              "      <td>0</td>\n",
              "      <td>0</td>\n",
              "      <td>0</td>\n",
              "      <td>0</td>\n",
              "      <td>150</td>\n",
              "      <td>227</td>\n",
              "      <td>...</td>\n",
              "      <td>211</td>\n",
              "      <td>220</td>\n",
              "      <td>214</td>\n",
              "      <td>74</td>\n",
              "      <td>0</td>\n",
              "      <td>255</td>\n",
              "      <td>222</td>\n",
              "      <td>128</td>\n",
              "      <td>0</td>\n",
              "      <td>0</td>\n",
              "      <td>0</td>\n",
              "      <td>0</td>\n",
              "      <td>0</td>\n",
              "      <td>0</td>\n",
              "      <td>0</td>\n",
              "      <td>0</td>\n",
              "      <td>0</td>\n",
              "      <td>44</td>\n",
              "      <td>12</td>\n",
              "      <td>0</td>\n",
              "      <td>0</td>\n",
              "      <td>40</td>\n",
              "      <td>134</td>\n",
              "      <td>162</td>\n",
              "      <td>191</td>\n",
              "      <td>214</td>\n",
              "      <td>163</td>\n",
              "      <td>146</td>\n",
              "      <td>165</td>\n",
              "      <td>79</td>\n",
              "      <td>0</td>\n",
              "      <td>0</td>\n",
              "      <td>0</td>\n",
              "      <td>30</td>\n",
              "      <td>43</td>\n",
              "      <td>0</td>\n",
              "      <td>0</td>\n",
              "      <td>0</td>\n",
              "      <td>0</td>\n",
              "      <td>0</td>\n",
              "    </tr>\n",
              "    <tr>\n",
              "      <th>3</th>\n",
              "      <td>0</td>\n",
              "      <td>0</td>\n",
              "      <td>0</td>\n",
              "      <td>1</td>\n",
              "      <td>2</td>\n",
              "      <td>0</td>\n",
              "      <td>0</td>\n",
              "      <td>0</td>\n",
              "      <td>0</td>\n",
              "      <td>0</td>\n",
              "      <td>114</td>\n",
              "      <td>183</td>\n",
              "      <td>112</td>\n",
              "      <td>55</td>\n",
              "      <td>23</td>\n",
              "      <td>72</td>\n",
              "      <td>102</td>\n",
              "      <td>165</td>\n",
              "      <td>160</td>\n",
              "      <td>28</td>\n",
              "      <td>0</td>\n",
              "      <td>0</td>\n",
              "      <td>0</td>\n",
              "      <td>1</td>\n",
              "      <td>0</td>\n",
              "      <td>0</td>\n",
              "      <td>0</td>\n",
              "      <td>0</td>\n",
              "      <td>0</td>\n",
              "      <td>0</td>\n",
              "      <td>0</td>\n",
              "      <td>0</td>\n",
              "      <td>1</td>\n",
              "      <td>0</td>\n",
              "      <td>0</td>\n",
              "      <td>24</td>\n",
              "      <td>188</td>\n",
              "      <td>163</td>\n",
              "      <td>93</td>\n",
              "      <td>136</td>\n",
              "      <td>...</td>\n",
              "      <td>171</td>\n",
              "      <td>249</td>\n",
              "      <td>207</td>\n",
              "      <td>197</td>\n",
              "      <td>202</td>\n",
              "      <td>45</td>\n",
              "      <td>0</td>\n",
              "      <td>3</td>\n",
              "      <td>0</td>\n",
              "      <td>0</td>\n",
              "      <td>0</td>\n",
              "      <td>0</td>\n",
              "      <td>0</td>\n",
              "      <td>0</td>\n",
              "      <td>0</td>\n",
              "      <td>0</td>\n",
              "      <td>0</td>\n",
              "      <td>0</td>\n",
              "      <td>1</td>\n",
              "      <td>0</td>\n",
              "      <td>0</td>\n",
              "      <td>0</td>\n",
              "      <td>22</td>\n",
              "      <td>21</td>\n",
              "      <td>25</td>\n",
              "      <td>69</td>\n",
              "      <td>52</td>\n",
              "      <td>45</td>\n",
              "      <td>74</td>\n",
              "      <td>39</td>\n",
              "      <td>3</td>\n",
              "      <td>0</td>\n",
              "      <td>0</td>\n",
              "      <td>0</td>\n",
              "      <td>0</td>\n",
              "      <td>1</td>\n",
              "      <td>0</td>\n",
              "      <td>0</td>\n",
              "      <td>0</td>\n",
              "      <td>0</td>\n",
              "    </tr>\n",
              "    <tr>\n",
              "      <th>4</th>\n",
              "      <td>0</td>\n",
              "      <td>0</td>\n",
              "      <td>0</td>\n",
              "      <td>0</td>\n",
              "      <td>0</td>\n",
              "      <td>0</td>\n",
              "      <td>0</td>\n",
              "      <td>0</td>\n",
              "      <td>0</td>\n",
              "      <td>0</td>\n",
              "      <td>0</td>\n",
              "      <td>0</td>\n",
              "      <td>46</td>\n",
              "      <td>0</td>\n",
              "      <td>21</td>\n",
              "      <td>68</td>\n",
              "      <td>0</td>\n",
              "      <td>0</td>\n",
              "      <td>0</td>\n",
              "      <td>0</td>\n",
              "      <td>0</td>\n",
              "      <td>0</td>\n",
              "      <td>0</td>\n",
              "      <td>0</td>\n",
              "      <td>0</td>\n",
              "      <td>0</td>\n",
              "      <td>0</td>\n",
              "      <td>0</td>\n",
              "      <td>0</td>\n",
              "      <td>0</td>\n",
              "      <td>0</td>\n",
              "      <td>0</td>\n",
              "      <td>0</td>\n",
              "      <td>0</td>\n",
              "      <td>0</td>\n",
              "      <td>0</td>\n",
              "      <td>25</td>\n",
              "      <td>187</td>\n",
              "      <td>189</td>\n",
              "      <td>0</td>\n",
              "      <td>...</td>\n",
              "      <td>230</td>\n",
              "      <td>237</td>\n",
              "      <td>229</td>\n",
              "      <td>0</td>\n",
              "      <td>0</td>\n",
              "      <td>1</td>\n",
              "      <td>0</td>\n",
              "      <td>0</td>\n",
              "      <td>0</td>\n",
              "      <td>0</td>\n",
              "      <td>0</td>\n",
              "      <td>0</td>\n",
              "      <td>0</td>\n",
              "      <td>0</td>\n",
              "      <td>0</td>\n",
              "      <td>0</td>\n",
              "      <td>0</td>\n",
              "      <td>0</td>\n",
              "      <td>0</td>\n",
              "      <td>0</td>\n",
              "      <td>0</td>\n",
              "      <td>68</td>\n",
              "      <td>116</td>\n",
              "      <td>112</td>\n",
              "      <td>136</td>\n",
              "      <td>147</td>\n",
              "      <td>144</td>\n",
              "      <td>121</td>\n",
              "      <td>102</td>\n",
              "      <td>63</td>\n",
              "      <td>0</td>\n",
              "      <td>0</td>\n",
              "      <td>0</td>\n",
              "      <td>0</td>\n",
              "      <td>0</td>\n",
              "      <td>0</td>\n",
              "      <td>0</td>\n",
              "      <td>0</td>\n",
              "      <td>0</td>\n",
              "      <td>0</td>\n",
              "    </tr>\n",
              "  </tbody>\n",
              "</table>\n",
              "<p>5 rows × 784 columns</p>\n",
              "</div>"
            ],
            "text/plain": [
              "   pixel1  pixel2  pixel3  pixel4  ...  pixel781  pixel782  pixel783  pixel784\n",
              "0       0       0       0       0  ...         0         0         0         0\n",
              "1       0       0       0       0  ...         0         0         0         0\n",
              "2       0       0       0       0  ...         0         0         0         0\n",
              "3       0       0       0       1  ...         0         0         0         0\n",
              "4       0       0       0       0  ...         0         0         0         0\n",
              "\n",
              "[5 rows x 784 columns]"
            ]
          },
          "metadata": {
            "tags": []
          },
          "execution_count": 170
        }
      ]
    },
    {
      "cell_type": "code",
      "metadata": {
        "colab": {
          "base_uri": "https://localhost:8080/"
        },
        "id": "FC-9qRjkU4T4",
        "outputId": "57e5dff0-6025-4b89-81ed-313a69b658dd"
      },
      "source": [
        "labels = train_data['label']\n",
        "labels.describe(include='all')"
      ],
      "execution_count": 171,
      "outputs": [
        {
          "output_type": "execute_result",
          "data": {
            "text/plain": [
              "count    60000.000000\n",
              "mean         4.500000\n",
              "std          2.872305\n",
              "min          0.000000\n",
              "25%          2.000000\n",
              "50%          4.500000\n",
              "75%          7.000000\n",
              "max          9.000000\n",
              "Name: label, dtype: float64"
            ]
          },
          "metadata": {
            "tags": []
          },
          "execution_count": 171
        }
      ]
    },
    {
      "cell_type": "code",
      "metadata": {
        "colab": {
          "base_uri": "https://localhost:8080/"
        },
        "id": "PermtXcshH8u",
        "outputId": "59b13156-fd05-46e4-ae70-8e51f114345a"
      },
      "source": [
        "# Create a dictionary for each type of label \n",
        "labels = {0 : \"T-shirt/top\", 1: \"Trouser\", 2: \"Pullover\", 3: \"Dress\", 4: \"Coat\",\n",
        "          5: \"Sandal\", 6: \"Shirt\", 7: \"Sneaker\", 8: \"Bag\", 9: \"Ankle Boot\"}\n",
        "\n",
        "def get_classes_distribution(data):\n",
        "    # Get the count for each label\n",
        "    label_counts = data[\"label\"].value_counts()\n",
        "\n",
        "    # Get total number of samples\n",
        "    total_samples = len(data)\n",
        "\n",
        "\n",
        "    # Count the number of items in each class\n",
        "    for i in range(len(label_counts)):\n",
        "        label = labels[label_counts.index[i]]\n",
        "        count = label_counts.values[i]\n",
        "        percent = (count / total_samples) * 100\n",
        "        print(\"{:<20s}:   {} or {}%\".format(label, count, percent))\n",
        "\n",
        "get_classes_distribution(train_data)"
      ],
      "execution_count": 172,
      "outputs": [
        {
          "output_type": "stream",
          "text": [
            "Ankle Boot          :   6000 or 10.0%\n",
            "Bag                 :   6000 or 10.0%\n",
            "Sneaker             :   6000 or 10.0%\n",
            "Shirt               :   6000 or 10.0%\n",
            "Sandal              :   6000 or 10.0%\n",
            "Coat                :   6000 or 10.0%\n",
            "Dress               :   6000 or 10.0%\n",
            "Pullover            :   6000 or 10.0%\n",
            "Trouser             :   6000 or 10.0%\n",
            "T-shirt/top         :   6000 or 10.0%\n"
          ],
          "name": "stdout"
        }
      ]
    },
    {
      "cell_type": "code",
      "metadata": {
        "colab": {
          "base_uri": "https://localhost:8080/",
          "height": 295
        },
        "id": "9XNIXN3yVhzU",
        "outputId": "ca502195-6c5b-4402-d8ad-bc296f37183c"
      },
      "source": [
        "def plot_label_per_class(data):\n",
        "    f, ax = plt.subplots(1,1, figsize=(12,4))\n",
        "    g = sns.countplot(data.label, order = data[\"label\"].value_counts().index)\n",
        "    g.set_title(\"Number of labels for each class\")\n",
        "\n",
        "    for p, label in zip(g.patches, data[\"label\"].value_counts().index):\n",
        "        g.annotate(labels[label], (p.get_x(), p.get_height()+0.1))\n",
        "    plt.show()  \n",
        "    \n",
        "plot_label_per_class(train_data)"
      ],
      "execution_count": 173,
      "outputs": [
        {
          "output_type": "display_data",
          "data": {
            "image/png": "[encoded data removed]",
            "text/plain": [
              "<Figure size 864x288 with 1 Axes>"
            ]
          },
          "metadata": {
            "tags": [],
            "needs_background": "light"
          }
        }
      ]
    },
    {
      "cell_type": "code",
      "metadata": {
        "colab": {
          "base_uri": "https://localhost:8080/"
        },
        "id": "dDJ5j3C9Vnp4",
        "outputId": "f49ec76e-40c1-4824-a076-53875677821e"
      },
      "source": [
        "get_classes_distribution(test_data)"
      ],
      "execution_count": 174,
      "outputs": [
        {
          "output_type": "stream",
          "text": [
            "Sneaker             :   1000 or 10.0%\n",
            "Shirt               :   1000 or 10.0%\n",
            "Sandal              :   1000 or 10.0%\n",
            "Coat                :   1000 or 10.0%\n",
            "Dress               :   1000 or 10.0%\n",
            "Pullover            :   1000 or 10.0%\n",
            "Ankle Boot          :   1000 or 10.0%\n",
            "Trouser             :   1000 or 10.0%\n",
            "Bag                 :   1000 or 10.0%\n",
            "T-shirt/top         :   1000 or 10.0%\n"
          ],
          "name": "stdout"
        }
      ]
    },
    {
      "cell_type": "code",
      "metadata": {
        "colab": {
          "base_uri": "https://localhost:8080/"
        },
        "id": "_Rhz95F0VpkT",
        "outputId": "ff2a6d66-15dd-4bdf-bcaf-8f78f06b3528"
      },
      "source": [
        "def sample_images_data(data):\n",
        "    # An empty list to collect some samples\n",
        "    sample_images = []\n",
        "    sample_labels = []\n",
        "\n",
        "    # Iterate over the keys of the labels dictionary defined in the above cell\n",
        "    for k in labels.keys():\n",
        "        # Get four samples for each category\n",
        "        samples = data[data[\"label\"] == k].head(4)\n",
        "        # Append the samples to the samples list\n",
        "        for j, s in enumerate(samples.values):\n",
        "            # First column contain labels, hence index should start from 1\n",
        "            img = np.array(samples.iloc[j, 1:]).reshape(IMG_ROWS,IMG_COLS)\n",
        "            sample_images.append(img)\n",
        "            sample_labels.append(samples.iloc[j, 0])\n",
        "\n",
        "    print(\"Total number of sample images to plot: \", len(sample_images))\n",
        "    return sample_images, sample_labels\n",
        "\n",
        "train_sample_images, train_sample_labels = sample_images_data(train_data)"
      ],
      "execution_count": 175,
      "outputs": [
        {
          "output_type": "stream",
          "text": [
            "Total number of sample images to plot:  40\n"
          ],
          "name": "stdout"
        }
      ]
    },
    {
      "cell_type": "code",
      "metadata": {
        "colab": {
          "base_uri": "https://localhost:8080/",
          "height": 780
        },
        "id": "INpL2KZ7Vwp2",
        "outputId": "8f31513d-dbfd-4683-ece0-59b9793d40dd"
      },
      "source": [
        "def plot_sample_images(data_sample_images,data_sample_labels,cmap=\"Blues\"):\n",
        "    # Plot the sample images now\n",
        "    f, ax = plt.subplots(4,10, figsize=(20,15))\n",
        "\n",
        "    for i, img in enumerate(data_sample_images):\n",
        "        ax[i//10, i%10].imshow(img, cmap=cmap)\n",
        "        ax[i//10, i%10].axis('off')\n",
        "        ax[i//10, i%10].set_title(labels[data_sample_labels[i]])\n",
        "    plt.show()    \n",
        "    \n",
        "plot_sample_images(train_sample_images,train_sample_labels, \"Greens\")"
      ],
      "execution_count": 176,
      "outputs": [
        {
          "output_type": "display_data",
          "data": {
            "image/png": "[encoded data removed]",
            "text/plain": [
              "<Figure size 1440x1080 with 40 Axes>"
            ]
          },
          "metadata": {
            "tags": [],
            "needs_background": "light"
          }
        }
      ]
    },
    {
      "cell_type": "code",
      "metadata": {
        "colab": {
          "base_uri": "https://localhost:8080/",
          "height": 798
        },
        "id": "aRkY-iAMV03-",
        "outputId": "eb25d46b-1b5a-405e-c2f2-7582c44c61cf"
      },
      "source": [
        "test_sample_images, test_sample_labels = sample_images_data(test_data)\n",
        "plot_sample_images(test_sample_images,test_sample_labels)"
      ],
      "execution_count": 177,
      "outputs": [
        {
          "output_type": "stream",
          "text": [
            "Total number of sample images to plot:  40\n"
          ],
          "name": "stdout"
        },
        {
          "output_type": "display_data",
          "data": {
            "image/png": "[encoded data removed]",
            "text/plain": [
              "<Figure size 1440x1080 with 40 Axes>"
            ]
          },
          "metadata": {
            "tags": [],
            "needs_background": "light"
          }
        }
      ]
    },
    {
      "cell_type": "code",
      "metadata": {
        "id": "n4VKmUqCV9I7"
      },
      "source": [
        "# data preprocessing\n",
        "def data_preprocessing(raw):\n",
        "    out_y = keras.utils.to_categorical(raw.label, NUM_CLASSES)\n",
        "    num_images = raw.shape[0]\n",
        "    x_as_array = raw.values[:,1:]\n",
        "    x_shaped_array = x_as_array.reshape(num_images, IMG_ROWS, IMG_COLS, 1)\n",
        "    out_x = x_shaped_array / 255\n",
        "    return out_x, out_y"
      ],
      "execution_count": 178,
      "outputs": []
    },
    {
      "cell_type": "code",
      "metadata": {
        "id": "Lzhk7z-pWAlM"
      },
      "source": [
        "# prepare the data\n",
        "X, y = data_preprocessing(train_data)\n",
        "X_test, y_test = data_preprocessing(test_data)"
      ],
      "execution_count": 179,
      "outputs": []
    },
    {
      "cell_type": "code",
      "metadata": {
        "id": "zKstiG7rWEFJ"
      },
      "source": [
        "X_train, X_val, y_train, y_val = train_test_split(X, y, test_size=TEST_SIZE, random_state=RANDOM_STATE)"
      ],
      "execution_count": 180,
      "outputs": []
    },
    {
      "cell_type": "code",
      "metadata": {
        "colab": {
          "base_uri": "https://localhost:8080/"
        },
        "id": "eVdLtfF4X9qp",
        "outputId": "c7cec132-3aea-4fa9-d4bb-48bf7a99f2b4"
      },
      "source": [
        "print(\"Fashion MNIST train -  rows:\",X_train.shape[0],\" columns:\", X_train.shape[1:4])\n",
        "print(\"Fashion MNIST valid -  rows:\",X_val.shape[0],\" columns:\", X_val.shape[1:4])\n",
        "print(\"Fashion MNIST test -  rows:\",X_test.shape[0],\" columns:\", X_test.shape[1:4])\n",
        "print(y_test.shape[1:4])"
      ],
      "execution_count": 181,
      "outputs": [
        {
          "output_type": "stream",
          "text": [
            "Fashion MNIST train -  rows: 48000  columns: (28, 28, 1)\n",
            "Fashion MNIST valid -  rows: 12000  columns: (28, 28, 1)\n",
            "Fashion MNIST test -  rows: 10000  columns: (28, 28, 1)\n",
            "(10,)\n"
          ],
          "name": "stdout"
        }
      ]
    },
    {
      "cell_type": "code",
      "metadata": {
        "colab": {
          "base_uri": "https://localhost:8080/",
          "height": 473
        },
        "id": "WtOt1tGaYHLx",
        "outputId": "443a2386-4bbd-42e4-a211-60ee2c596ae3"
      },
      "source": [
        "def plot_count_per_class(yd):\n",
        "    ydf = pd.DataFrame(yd)\n",
        "    f, ax = plt.subplots(1,1, figsize=(12,4))\n",
        "    g = sns.countplot(ydf[0], order = np.arange(0,10))\n",
        "    g.set_title(\"Number of items for each class\")\n",
        "    g.set_xlabel(\"Category\")\n",
        "    \n",
        "    for p, label in zip(g.patches, np.arange(0,10)):\n",
        "        g.annotate(labels[label], (p.get_x(), p.get_height()+0.1))\n",
        "        \n",
        "    plt.show()  \n",
        "\n",
        "def get_count_per_class(yd):\n",
        "    ydf = pd.DataFrame(yd)\n",
        "    # Get the count for each label\n",
        "    label_counts = ydf[0].value_counts()\n",
        "\n",
        "    # Get total number of samples\n",
        "    total_samples = len(yd)\n",
        "\n",
        "\n",
        "    # Count the number of items in each class\n",
        "    for i in range(len(label_counts)):\n",
        "        label = labels[label_counts.index[i]]\n",
        "        count = label_counts.values[i]\n",
        "        percent = (count / total_samples) * 100\n",
        "        print(\"{:<20s}:   {} or {}%\".format(label, count, percent))\n",
        "    \n",
        "plot_count_per_class(np.argmax(y_train,axis=1))\n",
        "get_count_per_class(np.argmax(y_train,axis=1))"
      ],
      "execution_count": 182,
      "outputs": [
        {
          "output_type": "display_data",
          "data": {
            "image/png": "[encoded data removed]",
            "text/plain": [
              "<Figure size 864x288 with 1 Axes>"
            ]
          },
          "metadata": {
            "tags": [],
            "needs_background": "light"
          }
        },
        {
          "output_type": "stream",
          "text": [
            "Dress               :   4891 or 10.189583333333333%\n",
            "Sandal              :   4855 or 10.114583333333334%\n",
            "Pullover            :   4836 or 10.075000000000001%\n",
            "Ankle Boot          :   4827 or 10.05625%\n",
            "Sneaker             :   4798 or 9.995833333333334%\n",
            "Coat                :   4796 or 9.991666666666667%\n",
            "Shirt               :   4779 or 9.95625%\n",
            "Bag                 :   4757 or 9.910416666666666%\n",
            "Trouser             :   4745 or 9.885416666666668%\n",
            "T-shirt/top         :   4716 or 9.825000000000001%\n"
          ],
          "name": "stdout"
        }
      ]
    },
    {
      "cell_type": "code",
      "metadata": {
        "colab": {
          "base_uri": "https://localhost:8080/",
          "height": 473
        },
        "id": "riLnphKuYL6U",
        "outputId": "da3e5848-48f4-49eb-b2c0-9558db9e9b92"
      },
      "source": [
        "plot_count_per_class(np.argmax(y_val,axis=1))\n",
        "get_count_per_class(np.argmax(y_val,axis=1))"
      ],
      "execution_count": 183,
      "outputs": [
        {
          "output_type": "display_data",
          "data": {
            "image/png": "[encoded data removed]",
            "text/plain": [
              "<Figure size 864x288 with 1 Axes>"
            ]
          },
          "metadata": {
            "tags": [],
            "needs_background": "light"
          }
        },
        {
          "output_type": "stream",
          "text": [
            "T-shirt/top         :   1284 or 10.7%\n",
            "Trouser             :   1255 or 10.458333333333334%\n",
            "Bag                 :   1243 or 10.358333333333333%\n",
            "Shirt               :   1221 or 10.174999999999999%\n",
            "Coat                :   1204 or 10.033333333333333%\n",
            "Sneaker             :   1202 or 10.016666666666667%\n",
            "Ankle Boot          :   1173 or 9.775%\n",
            "Pullover            :   1164 or 9.700000000000001%\n",
            "Sandal              :   1145 or 9.541666666666666%\n",
            "Dress               :   1109 or 9.241666666666665%\n"
          ],
          "name": "stdout"
        }
      ]
    },
    {
      "cell_type": "code",
      "metadata": {
        "id": "RhNTydbTYNoq"
      },
      "source": [
        "# Model\n",
        "model = Sequential()\n",
        "# Add convolution 2D\n",
        "model.add(Conv2D(32, kernel_size=(3, 3),\n",
        "                 activation='relu',\n",
        "                 kernel_initializer='he_normal',\n",
        "                 input_shape=(IMG_ROWS, IMG_COLS, 1)))\n",
        "model.add(MaxPooling2D((2, 2)))\n",
        "model.add(Conv2D(64, \n",
        "                 kernel_size=(3, 3), \n",
        "                 activation='relu'))\n",
        "model.add(MaxPooling2D(pool_size=(2, 2)))\n",
        "model.add(Conv2D(128, (3, 3), activation='relu'))\n",
        "model.add(Flatten())\n",
        "model.add(Dense(128, activation='relu'))\n",
        "model.add(Dense(NUM_CLASSES, activation='softmax'))\n",
        "\n",
        "\n",
        "model.compile(loss=keras.losses.categorical_crossentropy,\n",
        "              optimizer='adam',\n",
        "              metrics=['accuracy'])"
      ],
      "execution_count": 184,
      "outputs": []
    },
    {
      "cell_type": "code",
      "metadata": {
        "colab": {
          "base_uri": "https://localhost:8080/"
        },
        "id": "4GfqbJ9AYXZi",
        "outputId": "8ac4b70b-d52a-4151-8bde-7821fe354d61"
      },
      "source": [
        "model.summary()"
      ],
      "execution_count": 155,
      "outputs": [
        {
          "output_type": "stream",
          "text": [
            "Model: \"sequential_19\"\n",
            "_________________________________________________________________\n",
            "Layer (type)                 Output Shape              Param #   \n",
            "=================================================================\n",
            "conv2d_56 (Conv2D)           (None, 26, 26, 32)        320       \n",
            "_________________________________________________________________\n",
            "max_pooling2d_38 (MaxPooling (None, 13, 13, 32)        0         \n",
            "_________________________________________________________________\n",
            "conv2d_57 (Conv2D)           (None, 11, 11, 64)        18496     \n",
            "_________________________________________________________________\n",
            "max_pooling2d_39 (MaxPooling (None, 5, 5, 64)          0         \n",
            "_________________________________________________________________\n",
            "conv2d_58 (Conv2D)           (None, 3, 3, 128)         73856     \n",
            "_________________________________________________________________\n",
            "flatten_19 (Flatten)         (None, 1152)              0         \n",
            "_________________________________________________________________\n",
            "dense_37 (Dense)             (None, 128)               147584    \n",
            "_________________________________________________________________\n",
            "dense_38 (Dense)             (None, 10)                1290      \n",
            "=================================================================\n",
            "Total params: 241,546\n",
            "Trainable params: 241,546\n",
            "Non-trainable params: 0\n",
            "_________________________________________________________________\n"
          ],
          "name": "stdout"
        }
      ]
    },
    {
      "cell_type": "code",
      "metadata": {
        "colab": {
          "base_uri": "https://localhost:8080/"
        },
        "id": "4H4K9XMHYvb6",
        "outputId": "09c1625e-e9bb-40f7-ac4d-4127e48c95c6"
      },
      "source": [
        "train_model = model.fit(X_train, y_train,\n",
        "                  batch_size=BATCH_SIZE,\n",
        "                  epochs=NO_EPOCHS,\n",
        "                  verbose=1,\n",
        "                  validation_data=(X_val, y_val))"
      ],
      "execution_count": 156,
      "outputs": [
        {
          "output_type": "stream",
          "text": [
            "Epoch 1/15\n",
            "375/375 [==============================] - 45s 119ms/step - loss: 0.5249 - accuracy: 0.8117 - val_loss: 0.3760 - val_accuracy: 0.8667\n",
            "Epoch 2/15\n",
            "375/375 [==============================] - 44s 118ms/step - loss: 0.3333 - accuracy: 0.8782 - val_loss: 0.3397 - val_accuracy: 0.8773\n",
            "Epoch 3/15\n",
            "375/375 [==============================] - 44s 119ms/step - loss: 0.2844 - accuracy: 0.8956 - val_loss: 0.2945 - val_accuracy: 0.8955\n",
            "Epoch 4/15\n",
            "375/375 [==============================] - 45s 119ms/step - loss: 0.2511 - accuracy: 0.9076 - val_loss: 0.2928 - val_accuracy: 0.8957\n",
            "Epoch 5/15\n",
            "375/375 [==============================] - 45s 120ms/step - loss: 0.2259 - accuracy: 0.9171 - val_loss: 0.2823 - val_accuracy: 0.8983\n",
            "Epoch 6/15\n",
            "375/375 [==============================] - 44s 119ms/step - loss: 0.2027 - accuracy: 0.9247 - val_loss: 0.2663 - val_accuracy: 0.9067\n",
            "Epoch 7/15\n",
            "375/375 [==============================] - 45s 119ms/step - loss: 0.1825 - accuracy: 0.9318 - val_loss: 0.2650 - val_accuracy: 0.9091\n",
            "Epoch 8/15\n",
            "375/375 [==============================] - 44s 119ms/step - loss: 0.1642 - accuracy: 0.9385 - val_loss: 0.2673 - val_accuracy: 0.9067\n",
            "Epoch 9/15\n",
            "375/375 [==============================] - 45s 120ms/step - loss: 0.1499 - accuracy: 0.9433 - val_loss: 0.2719 - val_accuracy: 0.9095\n",
            "Epoch 10/15\n",
            "375/375 [==============================] - 45s 120ms/step - loss: 0.1317 - accuracy: 0.9512 - val_loss: 0.2938 - val_accuracy: 0.9072\n",
            "Epoch 11/15\n",
            "375/375 [==============================] - 45s 119ms/step - loss: 0.1200 - accuracy: 0.9547 - val_loss: 0.3412 - val_accuracy: 0.8945\n",
            "Epoch 12/15\n",
            "375/375 [==============================] - 44s 119ms/step - loss: 0.1059 - accuracy: 0.9604 - val_loss: 0.2998 - val_accuracy: 0.9102\n",
            "Epoch 13/15\n",
            "375/375 [==============================] - 44s 119ms/step - loss: 0.0922 - accuracy: 0.9659 - val_loss: 0.3173 - val_accuracy: 0.9101\n",
            "Epoch 14/15\n",
            "375/375 [==============================] - 44s 118ms/step - loss: 0.0820 - accuracy: 0.9697 - val_loss: 0.3327 - val_accuracy: 0.9107\n",
            "Epoch 15/15\n",
            "375/375 [==============================] - 45s 119ms/step - loss: 0.0736 - accuracy: 0.9740 - val_loss: 0.3626 - val_accuracy: 0.9097\n"
          ],
          "name": "stdout"
        }
      ]
    },
    {
      "cell_type": "code",
      "metadata": {
        "colab": {
          "base_uri": "https://localhost:8080/"
        },
        "id": "lb6Bvo5ub5NA",
        "outputId": "26144d06-0915-4c52-e5f0-683d02c5c18c"
      },
      "source": [
        "score = model.evaluate(X_test, y_test, verbose=0)\n",
        "score_val = model.evaluate(X_val, y_val, verbose=0)\n",
        "print('Test loss:', score[0])\n",
        "print('Test accuracy:', score[1])\n",
        "\n",
        "print('Val loss:', score_val[0])\n",
        "print('Val accuracy:', score_val[1])"
      ],
      "execution_count": 185,
      "outputs": [
        {
          "output_type": "stream",
          "text": [
            "Test loss: 2.3276498317718506\n",
            "Test accuracy: 0.0803999975323677\n",
            "Val loss: 2.3230350017547607\n",
            "Val accuracy: 0.08058333396911621\n"
          ],
          "name": "stdout"
        }
      ]
    },
    {
      "cell_type": "code",
      "metadata": {
        "colab": {
          "base_uri": "https://localhost:8080/",
          "height": 313
        },
        "id": "IeKVdrFostNY",
        "outputId": "d1d0e241-2721-440b-8bef-e214866147f0"
      },
      "source": [
        "plt.plot(train_model.history[\"loss\"])\n",
        "plt.plot(train_model.history[\"val_loss\"])\n",
        "plt.title(\"model loss\")\n",
        "plt.ylabel(\"loss\")\n",
        "plt.xlabel(\"epoch\")\n",
        "plt.legend([\"train\", \"test\"], loc=\"upper left\")"
      ],
      "execution_count": 186,
      "outputs": [
        {
          "output_type": "execute_result",
          "data": {
            "text/plain": [
              "<matplotlib.legend.Legend at 0x7f2db68094d0>"
            ]
          },
          "metadata": {
            "tags": []
          },
          "execution_count": 186
        },
        {
          "output_type": "display_data",
          "data": {
            "image/png": "[encoded data removed]",
            "text/plain": [
              "<Figure size 432x288 with 1 Axes>"
            ]
          },
          "metadata": {
            "tags": [],
            "needs_background": "light"
          }
        }
      ]
    },
    {
      "cell_type": "code",
      "metadata": {
        "colab": {
          "base_uri": "https://localhost:8080/",
          "height": 313
        },
        "id": "dSmdP6ekvRFN",
        "outputId": "e7c43fff-2c50-4955-f74d-1d0862a761c6"
      },
      "source": [
        "plt.plot(train_model.history[\"accuracy\"])\n",
        "plt.plot(train_model.history[\"val_accuracy\"])\n",
        "plt.title(\"model learning\")\n",
        "plt.ylabel(\"accuracy\")\n",
        "plt.xlabel(\"epoch\")\n",
        "plt.legend([\"train\", \"test\"], loc=\"upper left\")"
      ],
      "execution_count": 187,
      "outputs": [
        {
          "output_type": "execute_result",
          "data": {
            "text/plain": [
              "<matplotlib.legend.Legend at 0x7f2db676ce50>"
            ]
          },
          "metadata": {
            "tags": []
          },
          "execution_count": 187
        },
        {
          "output_type": "display_data",
          "data": {
            "image/png": "[encoded data removed]",
            "text/plain": [
              "<Figure size 432x288 with 1 Axes>"
            ]
          },
          "metadata": {
            "tags": [],
            "needs_background": "light"
          }
        }
      ]
    },
    {
      "cell_type": "code",
      "metadata": {
        "id": "LD1pw9wscIbB"
      },
      "source": [
        "# Model\n",
        "model = Sequential()\n",
        "# Add convolution 2D\n",
        "model.add(Conv2D(32, kernel_size=(3, 3),\n",
        "                 activation='relu',\n",
        "                 kernel_initializer='he_normal',\n",
        "                 input_shape=(IMG_ROWS, IMG_COLS, 1)))\n",
        "model.add(MaxPooling2D((2, 2)))\n",
        "model.add(Dropout(0.25))\n",
        "model.add(Conv2D(64, \n",
        "                 kernel_size=(3, 3), \n",
        "                 activation='relu'))\n",
        "model.add(MaxPooling2D(pool_size=(2, 2)))\n",
        "model.add(Dropout(0.25))\n",
        "model.add(Conv2D(128, (3, 3), activation='relu'))\n",
        "model.add(Dropout(0.4))\n",
        "model.add(Flatten())\n",
        "model.add(Dense(128, activation='relu'))\n",
        "model.add(Dropout(0.5))\n",
        "model.add(Dense(NUM_CLASSES, activation='softmax'))\n",
        "\n",
        "\n",
        "model.compile(loss=keras.losses.categorical_crossentropy,\n",
        "              optimizer='adam',\n",
        "              metrics=['accuracy'])"
      ],
      "execution_count": 188,
      "outputs": []
    },
    {
      "cell_type": "code",
      "metadata": {
        "colab": {
          "base_uri": "https://localhost:8080/"
        },
        "id": "TJ148uzRcMUs",
        "outputId": "4e5277b4-54ac-4287-dc3c-6b7a77b46ec9"
      },
      "source": [
        "model.summary()"
      ],
      "execution_count": 189,
      "outputs": [
        {
          "output_type": "stream",
          "text": [
            "Model: \"sequential_21\"\n",
            "_________________________________________________________________\n",
            "Layer (type)                 Output Shape              Param #   \n",
            "=================================================================\n",
            "conv2d_62 (Conv2D)           (None, 26, 26, 32)        320       \n",
            "_________________________________________________________________\n",
            "max_pooling2d_42 (MaxPooling (None, 13, 13, 32)        0         \n",
            "_________________________________________________________________\n",
            "dropout_30 (Dropout)         (None, 13, 13, 32)        0         \n",
            "_________________________________________________________________\n",
            "conv2d_63 (Conv2D)           (None, 11, 11, 64)        18496     \n",
            "_________________________________________________________________\n",
            "max_pooling2d_43 (MaxPooling (None, 5, 5, 64)          0         \n",
            "_________________________________________________________________\n",
            "dropout_31 (Dropout)         (None, 5, 5, 64)          0         \n",
            "_________________________________________________________________\n",
            "conv2d_64 (Conv2D)           (None, 3, 3, 128)         73856     \n",
            "_________________________________________________________________\n",
            "dropout_32 (Dropout)         (None, 3, 3, 128)         0         \n",
            "_________________________________________________________________\n",
            "flatten_21 (Flatten)         (None, 1152)              0         \n",
            "_________________________________________________________________\n",
            "dense_41 (Dense)             (None, 128)               147584    \n",
            "_________________________________________________________________\n",
            "dropout_33 (Dropout)         (None, 128)               0         \n",
            "_________________________________________________________________\n",
            "dense_42 (Dense)             (None, 10)                1290      \n",
            "=================================================================\n",
            "Total params: 241,546\n",
            "Trainable params: 241,546\n",
            "Non-trainable params: 0\n",
            "_________________________________________________________________\n"
          ],
          "name": "stdout"
        }
      ]
    },
    {
      "cell_type": "code",
      "metadata": {
        "colab": {
          "base_uri": "https://localhost:8080/"
        },
        "id": "hRlMiUJscRQS",
        "outputId": "724a2d86-3903-4545-ddb0-6c67e43ad785"
      },
      "source": [
        "train_model = model.fit(X_train, y_train,\n",
        "                  batch_size=BATCH_SIZE,\n",
        "                  epochs=NO_EPOCHS,\n",
        "                  verbose=1,\n",
        "                  validation_data=(X_val, y_val))"
      ],
      "execution_count": 190,
      "outputs": [
        {
          "output_type": "stream",
          "text": [
            "Epoch 1/15\n",
            "375/375 [==============================] - 49s 130ms/step - loss: 0.8148 - accuracy: 0.6969 - val_loss: 0.4882 - val_accuracy: 0.8117\n",
            "Epoch 2/15\n",
            "375/375 [==============================] - 48s 129ms/step - loss: 0.5152 - accuracy: 0.8116 - val_loss: 0.4097 - val_accuracy: 0.8467\n",
            "Epoch 3/15\n",
            "375/375 [==============================] - 49s 129ms/step - loss: 0.4420 - accuracy: 0.8389 - val_loss: 0.3510 - val_accuracy: 0.8719\n",
            "Epoch 4/15\n",
            "375/375 [==============================] - 47s 127ms/step - loss: 0.3935 - accuracy: 0.8575 - val_loss: 0.3180 - val_accuracy: 0.8841\n",
            "Epoch 5/15\n",
            "375/375 [==============================] - 48s 128ms/step - loss: 0.3675 - accuracy: 0.8671 - val_loss: 0.2951 - val_accuracy: 0.8910\n",
            "Epoch 6/15\n",
            "375/375 [==============================] - 48s 129ms/step - loss: 0.3436 - accuracy: 0.8746 - val_loss: 0.2860 - val_accuracy: 0.8943\n",
            "Epoch 7/15\n",
            "375/375 [==============================] - 48s 129ms/step - loss: 0.3334 - accuracy: 0.8787 - val_loss: 0.2732 - val_accuracy: 0.9025\n",
            "Epoch 8/15\n",
            "375/375 [==============================] - 48s 129ms/step - loss: 0.3162 - accuracy: 0.8847 - val_loss: 0.2724 - val_accuracy: 0.9009\n",
            "Epoch 9/15\n",
            "375/375 [==============================] - 48s 129ms/step - loss: 0.3060 - accuracy: 0.8888 - val_loss: 0.2720 - val_accuracy: 0.8988\n",
            "Epoch 10/15\n",
            "375/375 [==============================] - 48s 129ms/step - loss: 0.3041 - accuracy: 0.8899 - val_loss: 0.2612 - val_accuracy: 0.9053\n",
            "Epoch 11/15\n",
            "375/375 [==============================] - 48s 129ms/step - loss: 0.2918 - accuracy: 0.8931 - val_loss: 0.2628 - val_accuracy: 0.9021\n",
            "Epoch 12/15\n",
            "375/375 [==============================] - 48s 128ms/step - loss: 0.2826 - accuracy: 0.8961 - val_loss: 0.2569 - val_accuracy: 0.9072\n",
            "Epoch 13/15\n",
            "375/375 [==============================] - 48s 129ms/step - loss: 0.2793 - accuracy: 0.8975 - val_loss: 0.2445 - val_accuracy: 0.9092\n",
            "Epoch 14/15\n",
            "375/375 [==============================] - 48s 129ms/step - loss: 0.2769 - accuracy: 0.8992 - val_loss: 0.2488 - val_accuracy: 0.9102\n",
            "Epoch 15/15\n",
            "375/375 [==============================] - 48s 129ms/step - loss: 0.2686 - accuracy: 0.9018 - val_loss: 0.2423 - val_accuracy: 0.9114\n"
          ],
          "name": "stdout"
        }
      ]
    },
    {
      "cell_type": "code",
      "metadata": {
        "id": "zd8qUqN5cZRH",
        "colab": {
          "base_uri": "https://localhost:8080/"
        },
        "outputId": "8c6a2927-adef-4607-ddfb-8178338ea317"
      },
      "source": [
        "score = model.evaluate(X_test,y_test, verbose=0)\n",
        "score_val = model.evaluate(X_val, y_val, verbose=0)\n",
        "print('Test loss:', score[0])\n",
        "print('Test accuracy:', score[1])\n",
        "\n",
        "print('Val loss:', score_val[0])\n",
        "print('Val accuracy:', score_val[1])"
      ],
      "execution_count": 191,
      "outputs": [
        {
          "output_type": "stream",
          "text": [
            "Test loss: 0.22501489520072937\n",
            "Test accuracy: 0.911899983882904\n",
            "Val loss: 0.2422945499420166\n",
            "Val accuracy: 0.9114166498184204\n"
          ],
          "name": "stdout"
        }
      ]
    },
    {
      "cell_type": "code",
      "metadata": {
        "colab": {
          "base_uri": "https://localhost:8080/",
          "height": 313
        },
        "id": "tvLzu5bp9twf",
        "outputId": "207d9698-7a6f-4c4e-ce20-dad4e57bdbef"
      },
      "source": [
        "plt.plot(train_model.history[\"loss\"])\n",
        "plt.plot(train_model.history[\"val_loss\"])\n",
        "plt.title(\"model loss\")\n",
        "plt.ylabel(\"loss\")\n",
        "plt.xlabel(\"epoch\")\n",
        "plt.legend([\"train\", \"test\"], loc=\"upper left\")"
      ],
      "execution_count": 192,
      "outputs": [
        {
          "output_type": "execute_result",
          "data": {
            "text/plain": [
              "<matplotlib.legend.Legend at 0x7f2db6767710>"
            ]
          },
          "metadata": {
            "tags": []
          },
          "execution_count": 192
        },
        {
          "output_type": "display_data",
          "data": {
            "image/png": "[encoded data removed]",
            "text/plain": [
              "<Figure size 432x288 with 1 Axes>"
            ]
          },
          "metadata": {
            "tags": [],
            "needs_background": "light"
          }
        }
      ]
    },
    {
      "cell_type": "code",
      "metadata": {
        "colab": {
          "base_uri": "https://localhost:8080/",
          "height": 313
        },
        "id": "copN0rQuaLUH",
        "outputId": "d9257c7d-e877-433c-f89e-4e829d291fd9"
      },
      "source": [
        "plt.plot(train_model.history[\"accuracy\"])\n",
        "plt.plot(train_model.history[\"val_accuracy\"])\n",
        "plt.title(\"model learning\")\n",
        "plt.ylabel(\"accuracy\")\n",
        "plt.xlabel(\"epoch\")\n",
        "plt.legend([\"train\", \"test\"], loc=\"upper left\")"
      ],
      "execution_count": 193,
      "outputs": [
        {
          "output_type": "execute_result",
          "data": {
            "text/plain": [
              "<matplotlib.legend.Legend at 0x7f2dc6b4a6d0>"
            ]
          },
          "metadata": {
            "tags": []
          },
          "execution_count": 193
        },
        {
          "output_type": "display_data",
          "data": {
            "image/png": "[encoded data removed]",
            "text/plain": [
              "<Figure size 432x288 with 1 Axes>"
            ]
          },
          "metadata": {
            "tags": [],
            "needs_background": "light"
          }
        }
      ]
    },
    {
      "cell_type": "code",
      "metadata": {
        "id": "CZ3RTYS5-COL"
      },
      "source": [
        "# Model\n",
        "model = Sequential()\n",
        "# Add convolution 2D\n",
        "model.add(Conv2D(32, kernel_size=(3, 3),\n",
        "                 activation='relu',\n",
        "                 kernel_initializer='he_normal',\n",
        "                 input_shape=(IMG_ROWS, IMG_COLS, 1)))\n",
        "model.add(BatchNormalization(axis = 1))\n",
        "model.add(MaxPooling2D((2, 2)))\n",
        "model.add(Dropout(0.25))\n",
        "\n",
        "model.add(Conv2D(64, \n",
        "                 kernel_size=(3, 3), \n",
        "                 activation='relu'))\n",
        "model.add(BatchNormalization(axis = 1))\n",
        "model.add(MaxPooling2D(pool_size=(2, 2)))\n",
        "model.add(Dropout(0.25))\n",
        "\n",
        "model.add(Conv2D(128, (3, 3), activation='relu'))\n",
        "model.add(BatchNormalization(axis = 1))\n",
        "model.add(Dropout(0.4))\n",
        "\n",
        "model.add(Flatten())\n",
        "model.add(Dense(128, activation='relu'))\n",
        "model.add(BatchNormalization(axis = 1))\n",
        "model.add(Dropout(0.4))\n",
        "model.add(Dense(NUM_CLASSES, activation='softmax'))\n",
        "\n",
        "\n",
        "model.compile(loss=keras.losses.categorical_crossentropy,\n",
        "              optimizer='adam',\n",
        "              metrics=['accuracy'])"
      ],
      "execution_count": 194,
      "outputs": []
    },
    {
      "cell_type": "code",
      "metadata": {
        "colab": {
          "base_uri": "https://localhost:8080/"
        },
        "id": "b7BmOszliHoh",
        "outputId": "fa1068d5-e19f-4083-cb1b-dda0552400c6"
      },
      "source": [
        "model.summary()"
      ],
      "execution_count": 196,
      "outputs": [
        {
          "output_type": "stream",
          "text": [
            "Model: \"sequential_22\"\n",
            "_________________________________________________________________\n",
            "Layer (type)                 Output Shape              Param #   \n",
            "=================================================================\n",
            "conv2d_65 (Conv2D)           (None, 26, 26, 32)        320       \n",
            "_________________________________________________________________\n",
            "batch_normalization_17 (Batc (None, 26, 26, 32)        104       \n",
            "_________________________________________________________________\n",
            "max_pooling2d_44 (MaxPooling (None, 13, 13, 32)        0         \n",
            "_________________________________________________________________\n",
            "dropout_34 (Dropout)         (None, 13, 13, 32)        0         \n",
            "_________________________________________________________________\n",
            "conv2d_66 (Conv2D)           (None, 11, 11, 64)        18496     \n",
            "_________________________________________________________________\n",
            "batch_normalization_18 (Batc (None, 11, 11, 64)        44        \n",
            "_________________________________________________________________\n",
            "max_pooling2d_45 (MaxPooling (None, 5, 5, 64)          0         \n",
            "_________________________________________________________________\n",
            "dropout_35 (Dropout)         (None, 5, 5, 64)          0         \n",
            "_________________________________________________________________\n",
            "conv2d_67 (Conv2D)           (None, 3, 3, 128)         73856     \n",
            "_________________________________________________________________\n",
            "batch_normalization_19 (Batc (None, 3, 3, 128)         12        \n",
            "_________________________________________________________________\n",
            "dropout_36 (Dropout)         (None, 3, 3, 128)         0         \n",
            "_________________________________________________________________\n",
            "flatten_22 (Flatten)         (None, 1152)              0         \n",
            "_________________________________________________________________\n",
            "dense_43 (Dense)             (None, 128)               147584    \n",
            "_________________________________________________________________\n",
            "batch_normalization_20 (Batc (None, 128)               512       \n",
            "_________________________________________________________________\n",
            "dropout_37 (Dropout)         (None, 128)               0         \n",
            "_________________________________________________________________\n",
            "dense_44 (Dense)             (None, 10)                1290      \n",
            "=================================================================\n",
            "Total params: 242,218\n",
            "Trainable params: 241,882\n",
            "Non-trainable params: 336\n",
            "_________________________________________________________________\n"
          ],
          "name": "stdout"
        }
      ]
    },
    {
      "cell_type": "code",
      "metadata": {
        "colab": {
          "base_uri": "https://localhost:8080/"
        },
        "id": "hqWsVqoViN5Q",
        "outputId": "6efcbbb4-6d25-4bd6-b6ed-ae5cd6bfef95"
      },
      "source": [
        "train_model = model.fit(X_train, y_train,\n",
        "                  batch_size=BATCH_SIZE,\n",
        "                  epochs=NO_EPOCHS,\n",
        "                  verbose=1,\n",
        "                  validation_data=(X_val, y_val))"
      ],
      "execution_count": 197,
      "outputs": [
        {
          "output_type": "stream",
          "text": [
            "Epoch 1/15\n",
            "375/375 [==============================] - 94s 250ms/step - loss: 0.7900 - accuracy: 0.7168 - val_loss: 0.4509 - val_accuracy: 0.8365\n",
            "Epoch 2/15\n",
            "375/375 [==============================] - 94s 251ms/step - loss: 0.4661 - accuracy: 0.8300 - val_loss: 0.3599 - val_accuracy: 0.8706\n",
            "Epoch 3/15\n",
            "375/375 [==============================] - 94s 251ms/step - loss: 0.4019 - accuracy: 0.8528 - val_loss: 0.3212 - val_accuracy: 0.8830\n",
            "Epoch 4/15\n",
            "375/375 [==============================] - 94s 252ms/step - loss: 0.3619 - accuracy: 0.8665 - val_loss: 0.2929 - val_accuracy: 0.8940\n",
            "Epoch 5/15\n",
            "375/375 [==============================] - 95s 252ms/step - loss: 0.3349 - accuracy: 0.8786 - val_loss: 0.2754 - val_accuracy: 0.8984\n",
            "Epoch 6/15\n",
            "375/375 [==============================] - 94s 251ms/step - loss: 0.3134 - accuracy: 0.8863 - val_loss: 0.2693 - val_accuracy: 0.9004\n",
            "Epoch 7/15\n",
            "375/375 [==============================] - 94s 252ms/step - loss: 0.3011 - accuracy: 0.8904 - val_loss: 0.2611 - val_accuracy: 0.9037\n",
            "Epoch 8/15\n",
            "375/375 [==============================] - 94s 251ms/step - loss: 0.2911 - accuracy: 0.8929 - val_loss: 0.2646 - val_accuracy: 0.9023\n",
            "Epoch 9/15\n",
            "375/375 [==============================] - 94s 251ms/step - loss: 0.2788 - accuracy: 0.8976 - val_loss: 0.2521 - val_accuracy: 0.9078\n",
            "Epoch 10/15\n",
            "375/375 [==============================] - 94s 250ms/step - loss: 0.2692 - accuracy: 0.9013 - val_loss: 0.2362 - val_accuracy: 0.9139\n",
            "Epoch 11/15\n",
            "375/375 [==============================] - 94s 251ms/step - loss: 0.2593 - accuracy: 0.9070 - val_loss: 0.2422 - val_accuracy: 0.9119\n",
            "Epoch 12/15\n",
            "375/375 [==============================] - 94s 251ms/step - loss: 0.2512 - accuracy: 0.9077 - val_loss: 0.2408 - val_accuracy: 0.9146\n",
            "Epoch 13/15\n",
            "375/375 [==============================] - 94s 251ms/step - loss: 0.2521 - accuracy: 0.9069 - val_loss: 0.2260 - val_accuracy: 0.9162\n",
            "Epoch 14/15\n",
            "375/375 [==============================] - 95s 253ms/step - loss: 0.2450 - accuracy: 0.9104 - val_loss: 0.2434 - val_accuracy: 0.9103\n",
            "Epoch 15/15\n",
            "375/375 [==============================] - 95s 252ms/step - loss: 0.2393 - accuracy: 0.9105 - val_loss: 0.2213 - val_accuracy: 0.9221\n"
          ],
          "name": "stdout"
        }
      ]
    },
    {
      "cell_type": "code",
      "metadata": {
        "colab": {
          "base_uri": "https://localhost:8080/"
        },
        "id": "ij3Tn2R-jfrj",
        "outputId": "51d6529b-8de1-4f67-ecd3-be3be9582da1"
      },
      "source": [
        "score = model.evaluate(X_test,y_test, verbose=0)\n",
        "score_val = model.evaluate(X_val, y_val, verbose=0)\n",
        "print('Test loss:', score[0])\n",
        "print('Test accuracy:', score[1])\n",
        "\n",
        "print('Val loss:', score_val[0])\n",
        "print('Val accuracy:', score_val[1])"
      ],
      "execution_count": 198,
      "outputs": [
        {
          "output_type": "stream",
          "text": [
            "Test loss: 0.21002931892871857\n",
            "Test accuracy: 0.9199000000953674\n",
            "Val loss: 0.22129406034946442\n",
            "Val accuracy: 0.92208331823349\n"
          ],
          "name": "stdout"
        }
      ]
    },
    {
      "cell_type": "code",
      "metadata": {
        "colab": {
          "base_uri": "https://localhost:8080/",
          "height": 313
        },
        "id": "0AmlEqtijgdO",
        "outputId": "9eb37056-30b3-4ba6-fb06-7a725d7fc4c8"
      },
      "source": [
        "plt.plot(train_model.history[\"loss\"])\n",
        "plt.plot(train_model.history[\"val_loss\"])\n",
        "plt.title(\"model loss\")\n",
        "plt.ylabel(\"loss\")\n",
        "plt.xlabel(\"epoch\")\n",
        "plt.legend([\"train\", \"test\"], loc=\"upper left\")"
      ],
      "execution_count": 199,
      "outputs": [
        {
          "output_type": "execute_result",
          "data": {
            "text/plain": [
              "<matplotlib.legend.Legend at 0x7f2dbb083650>"
            ]
          },
          "metadata": {
            "tags": []
          },
          "execution_count": 199
        },
        {
          "output_type": "display_data",
          "data": {
            "image/png": "[encoded data removed]",
            "text/plain": [
              "<Figure size 432x288 with 1 Axes>"
            ]
          },
          "metadata": {
            "tags": [],
            "needs_background": "light"
          }
        }
      ]
    },
    {
      "cell_type": "code",
      "metadata": {
        "colab": {
          "base_uri": "https://localhost:8080/",
          "height": 313
        },
        "id": "GyRBkk_rjoRs",
        "outputId": "ba333ce5-3b4c-4ea1-ffa0-a5ac67404427"
      },
      "source": [
        "plt.plot(train_model.history[\"accuracy\"])\n",
        "plt.plot(train_model.history[\"val_accuracy\"])\n",
        "plt.title(\"model learning\")\n",
        "plt.ylabel(\"accuracy\")\n",
        "plt.xlabel(\"epoch\")\n",
        "plt.legend([\"train\", \"test\"], loc=\"upper left\")"
      ],
      "execution_count": 200,
      "outputs": [
        {
          "output_type": "execute_result",
          "data": {
            "text/plain": [
              "<matplotlib.legend.Legend at 0x7f2db3d08f50>"
            ]
          },
          "metadata": {
            "tags": []
          },
          "execution_count": 200
        },
        {
          "output_type": "display_data",
          "data": {
            "image/png": "[encoded data removed]",
            "text/plain": [
              "<Figure size 432x288 with 1 Axes>"
            ]
          },
          "metadata": {
            "tags": [],
            "needs_background": "light"
          }
        }
      ]
    },
    {
      "cell_type": "code",
      "metadata": {
        "id": "jr9gRpl8ccMN"
      },
      "source": [
        "#get the predictions for the test data\n",
        "predicted_classes = model.predict_classes(X_test)\n",
        "#get the indices to be plotted\n",
        "y_true = test_data.iloc[:, 0]"
      ],
      "execution_count": 201,
      "outputs": []
    },
    {
      "cell_type": "code",
      "metadata": {
        "id": "TitlFeXcceST"
      },
      "source": [
        "p = predicted_classes[:9999]\n",
        "y = y_true[:9999]\n",
        "y_l=y.to_numpy()\n",
        "correct = np.nonzero(p==y_l)[0]\n",
        "incorrect = np.nonzero(p!=y_l)[0]"
      ],
      "execution_count": 202,
      "outputs": []
    },
    {
      "cell_type": "code",
      "metadata": {
        "id": "OleqyQR2cvAE",
        "colab": {
          "base_uri": "https://localhost:8080/"
        },
        "outputId": "1fac291c-c975-4c0c-9a32-7acd3b062fdb"
      },
      "source": [
        "print(\"Correct predicted classes:\",correct.shape)\n",
        "print(\"Incorrect predicted classes:\",incorrect.shape)\n",
        "print(\"Prediction percentage %:\",correct.shape[0]/9999)"
      ],
      "execution_count": 203,
      "outputs": [
        {
          "output_type": "stream",
          "text": [
            "Correct predicted classes: (9198,)\n",
            "Incorrect predicted classes: (801,)\n",
            "Prediction percentage %: 0.9198919891989199\n"
          ],
          "name": "stdout"
        }
      ]
    },
    {
      "cell_type": "code",
      "metadata": {
        "id": "92QzFsYHcxGB",
        "colab": {
          "base_uri": "https://localhost:8080/"
        },
        "outputId": "1fa5b596-51fe-43ae-95ef-7d665dc21c61"
      },
      "source": [
        "target_names = [\"Class {} ({}) :\".format(i,labels[i]) for i in range(NUM_CLASSES)]\n",
        "print(classification_report(y_true, predicted_classes, target_names=target_names))"
      ],
      "execution_count": 204,
      "outputs": [
        {
          "output_type": "stream",
          "text": [
            "                         precision    recall  f1-score   support\n",
            "\n",
            "Class 0 (T-shirt/top) :       0.86      0.88      0.87      1000\n",
            "    Class 1 (Trouser) :       0.99      0.99      0.99      1000\n",
            "   Class 2 (Pullover) :       0.93      0.83      0.88      1000\n",
            "      Class 3 (Dress) :       0.90      0.95      0.93      1000\n",
            "       Class 4 (Coat) :       0.85      0.92      0.88      1000\n",
            "     Class 5 (Sandal) :       0.99      0.97      0.98      1000\n",
            "      Class 6 (Shirt) :       0.79      0.74      0.76      1000\n",
            "    Class 7 (Sneaker) :       0.96      0.96      0.96      1000\n",
            "        Class 8 (Bag) :       0.98      0.99      0.99      1000\n",
            " Class 9 (Ankle Boot) :       0.95      0.97      0.96      1000\n",
            "\n",
            "               accuracy                           0.92     10000\n",
            "              macro avg       0.92      0.92      0.92     10000\n",
            "           weighted avg       0.92      0.92      0.92     10000\n",
            "\n"
          ],
          "name": "stdout"
        }
      ]
    },
    {
      "cell_type": "code",
      "metadata": {
        "id": "2Mns3LRLcztn",
        "colab": {
          "base_uri": "https://localhost:8080/",
          "height": 862
        },
        "outputId": "007422db-62c6-409b-a462-78883d918072"
      },
      "source": [
        "def plot_images(data_index,cmap=\"Blues\"):\n",
        "    # Plot the sample images now\n",
        "    f, ax = plt.subplots(4,4, figsize=(15,15))\n",
        "\n",
        "    for i, indx in enumerate(data_index[:16]):\n",
        "        ax[i//4, i%4].imshow(X_test[indx].reshape(IMG_ROWS,IMG_COLS), cmap=cmap)\n",
        "        ax[i//4, i%4].axis('off')\n",
        "        ax[i//4, i%4].set_title(\"True:{}  Pred:{}\".format(labels[y_true[indx]],labels[predicted_classes[indx]]))\n",
        "    plt.show()    \n",
        "    \n",
        "plot_images(correct, \"Greens\")"
      ],
      "execution_count": 205,
      "outputs": [
        {
          "output_type": "display_data",
          "data": {
            "image/png": "[encoded data removed]",
            "text/plain": [
              "<Figure size 1080x1080 with 16 Axes>"
            ]
          },
          "metadata": {
            "tags": [],
            "needs_background": "light"
          }
        }
      ]
    },
    {
      "cell_type": "code",
      "metadata": {
        "id": "lGsPj_IQc2H1",
        "colab": {
          "base_uri": "https://localhost:8080/",
          "height": 862
        },
        "outputId": "80c1bba2-dcf8-4444-a727-10333279b574"
      },
      "source": [
        "plot_images(incorrect, \"Reds\")"
      ],
      "execution_count": 206,
      "outputs": [
        {
          "output_type": "display_data",
          "data": {
            "image/png": "[encoded data removed]",
            "text/plain": [
              "<Figure size 1080x1080 with 16 Axes>"
            ]
          },
          "metadata": {
            "tags": [],
            "needs_background": "light"
          }
        }
      ]
    }
  ]
}